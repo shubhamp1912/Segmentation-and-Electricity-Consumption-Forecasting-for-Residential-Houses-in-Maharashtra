{
 "cells": [
  {
   "cell_type": "markdown",
   "id": "08122a99",
   "metadata": {},
   "source": [
    "# Importing the Libraries"
   ]
  },
  {
   "cell_type": "code",
   "execution_count": 4,
   "id": "bb577ac9",
   "metadata": {
    "tags": []
   },
   "outputs": [],
   "source": [
    "import pandas as pd\n",
    "import numpy as np\n",
    "import seaborn as sns\n",
    "from sklearn.preprocessing import StandardScaler\n",
    "\n",
    "from sklearn.cluster import KMeans\n",
    "from sklearn.mixture import GaussianMixture\n",
    "from sklearn.metrics import silhouette_score\n",
    "from collections import Counter"
   ]
  },
  {
   "cell_type": "markdown",
   "id": "2e7af085",
   "metadata": {},
   "source": [
    "# Importing the data"
   ]
  },
  {
   "cell_type": "code",
   "execution_count": 5,
   "id": "64236189",
   "metadata": {
    "scrolled": true,
    "tags": []
   },
   "outputs": [],
   "source": [
    "dt = pd.read_csv(\"Maharashtra data.csv\", index_col = 0 )"
   ]
  },
  {
   "cell_type": "code",
   "execution_count": 6,
   "id": "9d4a6b29",
   "metadata": {},
   "outputs": [
    {
     "name": "stdout",
     "output_type": "stream",
     "text": [
      "(1409, 37)\n",
      "Index(['q103_survey_type', 'q213_no_members', 'q216_house_pucca_kachha',\n",
      "       'q217_house_type', 'q218_house_no_stories', 'q223_house_no_bedrooms',\n",
      "       'q224_house_no_toilets', 'q225_house_no_otherrooms', 'land_area_sqfeet',\n",
      "       'q228_plot_use_house_in_percent', 'q301_grid_yn', 'q313_grid_billfreq',\n",
      "       'q610_elec_bill_physical_yn', 'q610_a_no_billing_days',\n",
      "       'q610_b_billed_units', 'q405_a_incadescent_bulb_no',\n",
      "       'q405_b_cfl_bulb_no', 'q405_c_led_bulb_no', 'q405_d_led_tube_light_no',\n",
      "       'q405_e_cfl_tube_light_no', 'q409_ceiling_fan_yn',\n",
      "       'q410_ceiling_fan_no', 'q415_table_fan_yn', 'q416_table_fan_no',\n",
      "       'q421_air_coolers_yn', 'q422_air_coolers_no', 'q427_ac_yn',\n",
      "       'q428_ac_no', 'q459_tv_yn', 'q460_tv_no', 'q466_fridge_yn',\n",
      "       'q467_fridge_no', 'q471_mixer_grinder_2_yn', 'q472_wash_mach_yn',\n",
      "       'q476_iron_yn', 'q477_water_pump_yn', 'q480_water_pump_cap_hp'],\n",
      "      dtype='object')\n"
     ]
    }
   ],
   "source": [
    "dt1 = dt.copy()\n",
    "print(dt1.shape)\n",
    "print(dt1.columns)"
   ]
  },
  {
   "cell_type": "code",
   "execution_count": 7,
   "id": "af312170",
   "metadata": {},
   "outputs": [
    {
     "name": "stdout",
     "output_type": "stream",
     "text": [
      "<class 'pandas.core.frame.DataFrame'>\n",
      "Index: 1409 entries, 28 to 14830\n",
      "Data columns (total 37 columns):\n",
      " #   Column                          Non-Null Count  Dtype  \n",
      "---  ------                          --------------  -----  \n",
      " 0   q103_survey_type                1409 non-null   int64  \n",
      " 1   q213_no_members                 1409 non-null   int64  \n",
      " 2   q216_house_pucca_kachha         1409 non-null   int64  \n",
      " 3   q217_house_type                 1271 non-null   float64\n",
      " 4   q218_house_no_stories           1271 non-null   float64\n",
      " 5   q223_house_no_bedrooms          1409 non-null   int64  \n",
      " 6   q224_house_no_toilets           1409 non-null   int64  \n",
      " 7   q225_house_no_otherrooms        1409 non-null   int64  \n",
      " 8   land_area_sqfeet                1340 non-null   float64\n",
      " 9   q228_plot_use_house_in_percent  1309 non-null   float64\n",
      " 10  q301_grid_yn                    1409 non-null   int64  \n",
      " 11  q313_grid_billfreq              1403 non-null   float64\n",
      " 12  q610_elec_bill_physical_yn      1403 non-null   float64\n",
      " 13  q610_a_no_billing_days          892 non-null    float64\n",
      " 14  q610_b_billed_units             896 non-null    float64\n",
      " 15  q405_a_incadescent_bulb_no      1403 non-null   float64\n",
      " 16  q405_b_cfl_bulb_no              1403 non-null   float64\n",
      " 17  q405_c_led_bulb_no              1403 non-null   float64\n",
      " 18  q405_d_led_tube_light_no        1403 non-null   float64\n",
      " 19  q405_e_cfl_tube_light_no        1403 non-null   float64\n",
      " 20  q409_ceiling_fan_yn             1403 non-null   float64\n",
      " 21  q410_ceiling_fan_no             1361 non-null   float64\n",
      " 22  q415_table_fan_yn               1403 non-null   float64\n",
      " 23  q416_table_fan_no               249 non-null    float64\n",
      " 24  q421_air_coolers_yn             1403 non-null   float64\n",
      " 25  q422_air_coolers_no             207 non-null    float64\n",
      " 26  q427_ac_yn                      1404 non-null   float64\n",
      " 27  q428_ac_no                      87 non-null     float64\n",
      " 28  q459_tv_yn                      1403 non-null   float64\n",
      " 29  q460_tv_no                      1149 non-null   float64\n",
      " 30  q466_fridge_yn                  1403 non-null   float64\n",
      " 31  q467_fridge_no                  787 non-null    float64\n",
      " 32  q471_mixer_grinder_2_yn         1403 non-null   float64\n",
      " 33  q472_wash_mach_yn               1403 non-null   float64\n",
      " 34  q476_iron_yn                    1403 non-null   float64\n",
      " 35  q477_water_pump_yn              1403 non-null   float64\n",
      " 36  q480_water_pump_cap_hp          44 non-null     float64\n",
      "dtypes: float64(30), int64(7)\n",
      "memory usage: 418.3 KB\n"
     ]
    }
   ],
   "source": [
    "sub1 = dt1.copy()\n",
    "sub1.info()"
   ]
  },
  {
   "cell_type": "code",
   "execution_count": 8,
   "id": "74b697da-4210-44a3-8ccc-683bf5fe46a5",
   "metadata": {
    "tags": []
   },
   "outputs": [
    {
     "name": "stdout",
     "output_type": "stream",
     "text": [
      "(1409, 37)\n",
      "q103_survey_type                     0\n",
      "q213_no_members                      0\n",
      "q216_house_pucca_kachha              0\n",
      "q217_house_type                    138\n",
      "q218_house_no_stories              138\n",
      "q223_house_no_bedrooms               0\n",
      "q224_house_no_toilets                0\n",
      "q225_house_no_otherrooms             0\n",
      "land_area_sqfeet                    69\n",
      "q228_plot_use_house_in_percent     100\n",
      "q301_grid_yn                         0\n",
      "q313_grid_billfreq                   6\n",
      "q610_elec_bill_physical_yn           6\n",
      "q610_a_no_billing_days             517\n",
      "q610_b_billed_units                513\n",
      "q405_a_incadescent_bulb_no           6\n",
      "q405_b_cfl_bulb_no                   6\n",
      "q405_c_led_bulb_no                   6\n",
      "q405_d_led_tube_light_no             6\n",
      "q405_e_cfl_tube_light_no             6\n",
      "q409_ceiling_fan_yn                  6\n",
      "q410_ceiling_fan_no                 48\n",
      "q415_table_fan_yn                    6\n",
      "q416_table_fan_no                 1160\n",
      "q421_air_coolers_yn                  6\n",
      "q422_air_coolers_no               1202\n",
      "q427_ac_yn                           5\n",
      "q428_ac_no                        1322\n",
      "q459_tv_yn                           6\n",
      "q460_tv_no                         260\n",
      "q466_fridge_yn                       6\n",
      "q467_fridge_no                     622\n",
      "q471_mixer_grinder_2_yn              6\n",
      "q472_wash_mach_yn                    6\n",
      "q476_iron_yn                         6\n",
      "q477_water_pump_yn                   6\n",
      "q480_water_pump_cap_hp            1365\n",
      "dtype: int64\n"
     ]
    }
   ],
   "source": [
    "print(sub1.shape)\n",
    "print(sub1.isnull().sum())"
   ]
  },
  {
   "cell_type": "markdown",
   "id": "b4438948",
   "metadata": {},
   "source": [
    "### Dropping the missing values of land_area_sqfeet"
   ]
  },
  {
   "cell_type": "code",
   "execution_count": 9,
   "id": "5db54f00",
   "metadata": {
    "jupyter": {
     "outputs_hidden": true
    },
    "tags": []
   },
   "outputs": [
    {
     "name": "stdout",
     "output_type": "stream",
     "text": [
      "(1340, 37)\n"
     ]
    }
   ],
   "source": [
    "## Dropping the NaN values of land_area_sqfeet \n",
    "#-{as here the area variable will not be altered i.e replaced by mean, median, or mode}\n",
    "\n",
    "sub1 = sub1.dropna(subset = \"land_area_sqfeet\")\n",
    "print(sub1.shape)"
   ]
  },
  {
   "cell_type": "markdown",
   "id": "5cf88b18",
   "metadata": {},
   "source": [
    "# House area (in sqft)"
   ]
  },
  {
   "cell_type": "code",
   "execution_count": 10,
   "id": "13c402f6",
   "metadata": {},
   "outputs": [
    {
     "data": {
      "text/plain": [
       "(1340, 38)"
      ]
     },
     "execution_count": 10,
     "metadata": {},
     "output_type": "execute_result"
    }
   ],
   "source": [
    "## Obtaining the House area in sqft \n",
    "#- If percent of land used is NOT known, then ASSUMED house is built on the whole land of owner \n",
    "#----Hence 100% land used for building house. Thus House area in sqft = land area(sqft)\n",
    "#- If percent of land used is known, then land area(sqft) * percent of land used /100\n",
    "\n",
    "sub1['House_area_in_sqft'] = np.where(sub1['q228_plot_use_house_in_percent'].isna(), \n",
    "                                      sub1['land_area_sqfeet'],\n",
    "                                      sub1['land_area_sqfeet'] * sub1['q228_plot_use_house_in_percent']/100 )\n",
    "\n",
    "sub1.shape"
   ]
  },
  {
   "cell_type": "markdown",
   "id": "011b4971",
   "metadata": {},
   "source": [
    "# Total rooms"
   ]
  },
  {
   "cell_type": "code",
   "execution_count": 11,
   "id": "c0c904fb",
   "metadata": {},
   "outputs": [
    {
     "data": {
      "text/plain": [
       "(1340, 39)"
      ]
     },
     "execution_count": 11,
     "metadata": {},
     "output_type": "execute_result"
    }
   ],
   "source": [
    "sub1['Total_rooms'] = sub1['q223_house_no_bedrooms'] + sub1['q225_house_no_otherrooms']\n",
    "sub1.shape"
   ]
  },
  {
   "cell_type": "markdown",
   "id": "e6664a88",
   "metadata": {},
   "source": [
    "# Occupants"
   ]
  },
  {
   "cell_type": "code",
   "execution_count": 12,
   "id": "cf20ac65",
   "metadata": {
    "scrolled": true
   },
   "outputs": [],
   "source": [
    "sub1.rename(columns = {\"q213_no_members\" : \"Occupants\"}, inplace = True)"
   ]
  },
  {
   "cell_type": "markdown",
   "id": "c27857f9",
   "metadata": {},
   "source": [
    "# Appliances\n",
    "\n",
    "## Table for wattages of appliances"
   ]
  },
  {
   "cell_type": "code",
   "execution_count": 13,
   "id": "d9da3eaa",
   "metadata": {},
   "outputs": [],
   "source": [
    "list = [[\"Incadescent bulbs\", 60], [\"CFL bulbs\", 15], [\"LED bulbs\", 9], [\"LED tubes\", 20], [\"CFL tubes\", 55], \n",
    "        [\"ceiling_fans\", 80], [\"table_fans\", 55], [\"air_coolers\", 120],\n",
    "        [\"ACs\", 2000],\n",
    "        [\"TVs\", 120], [\"fridge(286lit)\", 500], [\"mixer/blender\", 500], [\"wash_machines\", 500], [\"e_iron\", 1000],\n",
    "        [\"water_pump(1 HP)\", 746] ]"
   ]
  },
  {
   "cell_type": "code",
   "execution_count": 14,
   "id": "b84e3083",
   "metadata": {},
   "outputs": [],
   "source": [
    "watt = pd.DataFrame(list, columns = [\"Appliance\", \"Wattage\"])"
   ]
  },
  {
   "cell_type": "markdown",
   "id": "984b4926",
   "metadata": {},
   "source": [
    "## Removing some outliers based on NA values"
   ]
  },
  {
   "cell_type": "code",
   "execution_count": 15,
   "id": "8279e157",
   "metadata": {},
   "outputs": [],
   "source": [
    "### The considered appliances are as follows:- \n",
    "#- Lighting       - Incadescent bulbs, CFL bulbs, LED bulbs, LED tubes, CFL tubes\n",
    "#- Space Cooling  - Ceiling fans, Table fans, Air coolers, ACs\n",
    "#- Other          - TVs, Fridge, Blender, Washing Machines, Electric Iron, Water pump"
   ]
  },
  {
   "cell_type": "code",
   "execution_count": 16,
   "id": "3279f1dc",
   "metadata": {},
   "outputs": [
    {
     "name": "stdout",
     "output_type": "stream",
     "text": [
      "(1335, 39)\n"
     ]
    }
   ],
   "source": [
    "### There were also some houses OR data points, which had all above appliances as NA\n",
    "#- Hence these points are removed \n",
    "\n",
    "sub1 = sub1.dropna(subset = \"q405_a_incadescent_bulb_no\")\n",
    "print(sub1.shape)"
   ]
  },
  {
   "cell_type": "markdown",
   "id": "edeeea8a",
   "metadata": {},
   "source": [
    "## Lighting"
   ]
  },
  {
   "cell_type": "code",
   "execution_count": 17,
   "id": "7407ccff",
   "metadata": {},
   "outputs": [],
   "source": [
    "sub1['Inc_bulbs'] = sub1[\"q405_a_incadescent_bulb_no\"] * 60\n",
    "sub1['CFL_bulbs'] = sub1[\"q405_b_cfl_bulb_no\"] * 15\n",
    "sub1['LED_bulbs'] = sub1[\"q405_c_led_bulb_no\"] * 9\n",
    "sub1['LED_tubes'] = sub1[\"q405_d_led_tube_light_no\"] * 20\n",
    "sub1['CFL_tubes'] = sub1[\"q405_e_cfl_tube_light_no\"] * 55"
   ]
  },
  {
   "cell_type": "markdown",
   "id": "c9345890",
   "metadata": {},
   "source": [
    "### Summing up to get total no.of installed lights"
   ]
  },
  {
   "cell_type": "code",
   "execution_count": 18,
   "id": "a92e02a3",
   "metadata": {},
   "outputs": [
    {
     "name": "stdout",
     "output_type": "stream",
     "text": [
      "(1335, 45)\n"
     ]
    }
   ],
   "source": [
    "sub1[\"tot_lights\"] = sub1['q405_a_incadescent_bulb_no'] + sub1['q405_b_cfl_bulb_no'] + sub1['q405_c_led_bulb_no'] + sub1['q405_d_led_tube_light_no'] + sub1['q405_e_cfl_tube_light_no']\n",
    "print(sub1.shape)"
   ]
  },
  {
   "cell_type": "markdown",
   "id": "14be1f50",
   "metadata": {},
   "source": [
    "### To get total lighting in terms of wattage"
   ]
  },
  {
   "cell_type": "code",
   "execution_count": 19,
   "id": "cb75dc04",
   "metadata": {},
   "outputs": [
    {
     "name": "stdout",
     "output_type": "stream",
     "text": [
      "(1335, 46)\n"
     ]
    }
   ],
   "source": [
    "sub1[\"Lighting\"] = sub1['Inc_bulbs'] + sub1['CFL_bulbs'] + sub1['LED_bulbs'] + sub1['LED_tubes'] + sub1['CFL_tubes']\n",
    "print(sub1.shape)"
   ]
  },
  {
   "cell_type": "markdown",
   "id": "5dde09b3",
   "metadata": {},
   "source": [
    "## Space cooling"
   ]
  },
  {
   "cell_type": "markdown",
   "id": "460cc404",
   "metadata": {},
   "source": [
    "### Ceiling fans"
   ]
  },
  {
   "cell_type": "code",
   "execution_count": 20,
   "id": "c8c86005",
   "metadata": {},
   "outputs": [
    {
     "data": {
      "text/plain": [
       "(1335, 48)"
      ]
     },
     "execution_count": 20,
     "metadata": {},
     "output_type": "execute_result"
    }
   ],
   "source": [
    "sub1['c_fans_no'] = np.where(sub1['q409_ceiling_fan_yn'] == 1, sub1['q410_ceiling_fan_no'], 0)\n",
    "sub1['ceiling_fans'] = sub1['c_fans_no'] * 80\n",
    "sub1.shape"
   ]
  },
  {
   "cell_type": "markdown",
   "id": "3a167cf7",
   "metadata": {},
   "source": [
    "### Table fans"
   ]
  },
  {
   "cell_type": "code",
   "execution_count": 21,
   "id": "5c62f5c6",
   "metadata": {},
   "outputs": [
    {
     "data": {
      "text/plain": [
       "(1335, 50)"
      ]
     },
     "execution_count": 21,
     "metadata": {},
     "output_type": "execute_result"
    }
   ],
   "source": [
    "sub1['t_fans_no'] = np.where(sub1['q415_table_fan_yn'] == 1, sub1['q416_table_fan_no'], 0)\n",
    "sub1['table_fans'] = sub1['t_fans_no'] * 55\n",
    "sub1.shape"
   ]
  },
  {
   "cell_type": "markdown",
   "id": "5f9bad64",
   "metadata": {},
   "source": [
    "### Air coolers"
   ]
  },
  {
   "cell_type": "code",
   "execution_count": 22,
   "id": "aeb09069",
   "metadata": {},
   "outputs": [
    {
     "data": {
      "text/plain": [
       "(1335, 52)"
      ]
     },
     "execution_count": 22,
     "metadata": {},
     "output_type": "execute_result"
    }
   ],
   "source": [
    "sub1['air_cool_no'] = np.where(sub1['q421_air_coolers_yn'] == 1, sub1['q422_air_coolers_no'], 0)\n",
    "sub1['air_coolers'] = sub1['air_cool_no'] * 120\n",
    "sub1.shape"
   ]
  },
  {
   "cell_type": "markdown",
   "id": "faa51078",
   "metadata": {},
   "source": [
    "### ACs"
   ]
  },
  {
   "cell_type": "code",
   "execution_count": 23,
   "id": "7e3fb8e0",
   "metadata": {},
   "outputs": [
    {
     "data": {
      "text/plain": [
       "(1335, 54)"
      ]
     },
     "execution_count": 23,
     "metadata": {},
     "output_type": "execute_result"
    }
   ],
   "source": [
    "sub1['ac_no'] = np.where(sub1['q427_ac_yn'] == 1, sub1['q428_ac_no'], 0)\n",
    "sub1['acs'] = sub1['ac_no'] * 2000\n",
    "sub1.shape"
   ]
  },
  {
   "cell_type": "markdown",
   "id": "35ad2ac3",
   "metadata": {},
   "source": [
    "### Total no.of cooling appliances"
   ]
  },
  {
   "cell_type": "code",
   "execution_count": 24,
   "id": "17bea3bc",
   "metadata": {},
   "outputs": [],
   "source": [
    "sub1[\"Cooling_app\"] = sub1[\"c_fans_no\"] + sub1[\"t_fans_no\"] + sub1[\"air_cool_no\"] + sub1[\"ac_no\"]"
   ]
  },
  {
   "cell_type": "markdown",
   "id": "5e682a99",
   "metadata": {},
   "source": [
    "### Summing up all cooling appliances to get SPACE COOLING in wattage"
   ]
  },
  {
   "cell_type": "code",
   "execution_count": 25,
   "id": "1eeaedf1",
   "metadata": {},
   "outputs": [
    {
     "data": {
      "text/plain": [
       "(1335, 56)"
      ]
     },
     "execution_count": 25,
     "metadata": {},
     "output_type": "execute_result"
    }
   ],
   "source": [
    "sub1[\"Space_cooling\"] = sub1[\"ceiling_fans\"] + sub1[\"table_fans\"] + sub1[\"air_coolers\"] + sub1[\"acs\"]\n",
    "sub1.shape"
   ]
  },
  {
   "cell_type": "markdown",
   "id": "2243afde",
   "metadata": {},
   "source": [
    "## Other Appliances "
   ]
  },
  {
   "cell_type": "code",
   "execution_count": 26,
   "id": "80b093ad",
   "metadata": {},
   "outputs": [
    {
     "data": {
      "text/plain": [
       "(1335, 69)"
      ]
     },
     "execution_count": 26,
     "metadata": {},
     "output_type": "execute_result"
    }
   ],
   "source": [
    "sub1[\"TV_no\"] = np.where(sub1[\"q459_tv_yn\"] == 1, sub1[\"q460_tv_no\"], 0)\n",
    "sub1[\"TVs\"] = sub1[\"TV_no\"] * 120\n",
    "\n",
    "sub1[\"fridge_no\"] = np.where(sub1[\"q466_fridge_yn\"] == 1, sub1[\"q467_fridge_no\"], 0)\n",
    "sub1[\"fridges\"] = sub1[\"fridge_no\"] * 500\n",
    "\n",
    "sub1[\"blender_no\"] = np.where(sub1[\"q471_mixer_grinder_2_yn\"] == 1, 1, 0)\n",
    "sub1[\"blender\"] = sub1[\"blender_no\"] * 500\n",
    "\n",
    "sub1[\"wash_mach_no\"] = np.where(sub1[\"q472_wash_mach_yn\"] == 1, 1, 0)\n",
    "sub1[\"wash_mach\"] = sub1[\"wash_mach_no\"] * 500\n",
    "\n",
    "sub1[\"iron_no\"] = np.where(sub1[\"q476_iron_yn\"] == 1, 1, 0)\n",
    "sub1[\"iron\"] = sub1[\"iron_no\"] * 1000\n",
    "\n",
    "sub1[\"pump_no\"] = np.where(sub1[\"q477_water_pump_yn\"] == 1, 1, 0)\n",
    "sub1[\"pump_cap_hp\"] = np.where(sub1[\"q477_water_pump_yn\"] == 1, \n",
    "                              np.where(sub1[\"q480_water_pump_cap_hp\"].isna(), 1, sub1[\"q480_water_pump_cap_hp\"]),\n",
    "                              0)\n",
    "sub1[\"pumps\"] = sub1[\"pump_no\"] * sub1[\"pump_cap_hp\"] * 746\n",
    "\n",
    "sub1.shape"
   ]
  },
  {
   "cell_type": "markdown",
   "id": "3279c84e",
   "metadata": {},
   "source": [
    "### Summing up all other appliances to get total no.of other appliances installed and total OTHER appliances in terms of installed wattage"
   ]
  },
  {
   "cell_type": "code",
   "execution_count": 27,
   "id": "1033c7db",
   "metadata": {},
   "outputs": [
    {
     "data": {
      "text/plain": [
       "(1335, 71)"
      ]
     },
     "execution_count": 27,
     "metadata": {},
     "output_type": "execute_result"
    }
   ],
   "source": [
    "sub1[\"Other_app_no\"] = sub1[\"TV_no\"] + sub1[\"fridge_no\"] + sub1[\"blender_no\"] + sub1[\"wash_mach_no\"] + sub1[\"iron_no\"] + sub1[\"pump_no\"]\n",
    "sub1[\"Other\"] = sub1[\"TVs\"] + sub1[\"fridges\"] + sub1[\"blender\"] + sub1[\"wash_mach\"] + sub1[\"iron\"] + sub1[\"pumps\"]\n",
    "\n",
    "sub1.shape"
   ]
  },
  {
   "cell_type": "markdown",
   "id": "72247a45",
   "metadata": {},
   "source": [
    "## Total no.of appliances in the house"
   ]
  },
  {
   "cell_type": "code",
   "execution_count": 28,
   "id": "d9aed530",
   "metadata": {},
   "outputs": [
    {
     "data": {
      "text/plain": [
       "(1335, 72)"
      ]
     },
     "execution_count": 28,
     "metadata": {},
     "output_type": "execute_result"
    }
   ],
   "source": [
    "sub1[\"Total_app\"] = sub1[\"tot_lights\"] + sub1[\"Cooling_app\"] + sub1[\"Other_app_no\"]\n",
    "sub1.shape"
   ]
  },
  {
   "cell_type": "markdown",
   "id": "9e748913",
   "metadata": {},
   "source": [
    "## Determining the monthly billed units \n",
    "\n",
    "### Billings Days"
   ]
  },
  {
   "cell_type": "code",
   "execution_count": 29,
   "id": "bb025261",
   "metadata": {},
   "outputs": [
    {
     "name": "stdout",
     "output_type": "stream",
     "text": [
      "(477, 2)\n"
     ]
    },
    {
     "data": {
      "text/plain": [
       "q313_grid_billfreq\n",
       "1.0    460\n",
       "2.0      9\n",
       "3.0      4\n",
       "5.0      2\n",
       "6.0      2\n",
       "Name: count, dtype: int64"
      ]
     },
     "execution_count": 29,
     "metadata": {},
     "output_type": "execute_result"
    }
   ],
   "source": [
    "## Checking the distribution of grid bill frequency for values who have NaN values in q610_a_no_billing_days\n",
    "abc = sub1.loc[sub1[\"q610_a_no_billing_days\"].isna(), [\"q313_grid_billfreq\",\"q610_a_no_billing_days\"]]\n",
    "print(abc.shape)\n",
    "abc[\"q313_grid_billfreq\"].value_counts(dropna = False).sort_index()"
   ]
  },
  {
   "cell_type": "code",
   "execution_count": 30,
   "id": "0b8e3ef4",
   "metadata": {},
   "outputs": [],
   "source": [
    "#- 1 == Once in a month; 2 == Once in 2 months; 3 == Once in 3 months; 4 == Once in a year\n",
    "#- 5 == Irregular ; 6 == Not received bill yet\n",
    "\n",
    "sub1[\"Billing_days\"] = np.where(sub1[\"q610_a_no_billing_days\"].isna(), \n",
    "                                np.where(sub1[\"q313_grid_billfreq\"] == 1, 30, \n",
    "                                        np.where(sub1[\"q313_grid_billfreq\"] == 2, 60,\n",
    "                                                np.where(sub1[\"q313_grid_billfreq\"] == 3, 90,\n",
    "                                                        np.where(sub1[\"q313_grid_billfreq\"] == 4, 365, \n",
    "                                                                 sub1[\"q610_a_no_billing_days\"]) ) ) ),\n",
    "                                sub1[\"q610_a_no_billing_days\"])"
   ]
  },
  {
   "cell_type": "markdown",
   "id": "1be1edae",
   "metadata": {},
   "source": [
    "### Monthly billed units "
   ]
  },
  {
   "cell_type": "code",
   "execution_count": 31,
   "id": "d5b8f63c",
   "metadata": {},
   "outputs": [],
   "source": [
    "#- If billing days are 30 or 31 days, then the \"q610_b_billed_units\" is the monthly billed units\n",
    "#- For other billing days, \"q610_b_billed_units\" will be scaled\n",
    "\n",
    "sub1[\"m_billed_units\"] = np.where((sub1[\"Billing_days\"] == 30) | (sub1[\"Billing_days\"] == 31), \n",
    "                                  sub1[\"q610_b_billed_units\"], \n",
    "                                  (sub1[\"q610_b_billed_units\"] * 30/sub1[\"Billing_days\"])   )"
   ]
  },
  {
   "cell_type": "markdown",
   "id": "1a510ca9",
   "metadata": {},
   "source": [
    "## Categorizing House type "
   ]
  },
  {
   "cell_type": "code",
   "execution_count": 32,
   "id": "82ff8800",
   "metadata": {},
   "outputs": [],
   "source": [
    "## Defining housetype categories from \"q217_house_type\"\n",
    "\n",
    "# The houses will be categorized by following categories and requirements for these categories are mentioned in parenthesis\n",
    "#- 1 === Single Storey independent houses     (q217_house_type == 1 and q218_house_no_stories == 1)\n",
    "#- 2 === Multi Storey independent houses      (q217_house_type == 1 and q218_house_no_stories > 1)\n",
    "#- 3 === Multi Storey apartment houses        (q217_house_type == 2 and q218_house_no_stories > 1)\n",
    "#- 4 === Houses with \"NA\" house type          (q217_house_type == \"NaN\")\n",
    "\n",
    "sub1[\"House_type\"] = np.where(sub1[\"q217_house_type\"].isna(), 4, \n",
    "                              np.where(sub1[\"q218_house_no_stories\"] == 1, 1,\n",
    "                                      np.where(sub1[\"q217_house_type\"] == 1, 2, 3 ) ) )"
   ]
  },
  {
   "cell_type": "markdown",
   "id": "7736ae3d",
   "metadata": {},
   "source": [
    "## Selecting the required variables"
   ]
  },
  {
   "cell_type": "code",
   "execution_count": 33,
   "id": "e7a32763",
   "metadata": {},
   "outputs": [
    {
     "name": "stdout",
     "output_type": "stream",
     "text": [
      "(1335, 16)\n",
      "<class 'pandas.core.frame.DataFrame'>\n",
      "Index: 1335 entries, 60 to 14830\n",
      "Data columns (total 16 columns):\n",
      " #   Column                      Non-Null Count  Dtype  \n",
      "---  ------                      --------------  -----  \n",
      " 0   q103_survey_type            1335 non-null   int64  \n",
      " 1   q216_house_pucca_kachha     1335 non-null   int64  \n",
      " 2   House_type                  1335 non-null   int32  \n",
      " 3   q218_house_no_stories       1203 non-null   float64\n",
      " 4   Occupants                   1335 non-null   int64  \n",
      " 5   House_area_in_sqft          1335 non-null   float64\n",
      " 6   Total_rooms                 1335 non-null   int64  \n",
      " 7   q427_ac_yn                  1335 non-null   float64\n",
      " 8   tot_lights                  1335 non-null   float64\n",
      " 9   Lighting                    1335 non-null   float64\n",
      " 10  Space_cooling               1335 non-null   float64\n",
      " 11  Other                       1335 non-null   float64\n",
      " 12  Total_app                   1335 non-null   float64\n",
      " 13  q610_elec_bill_physical_yn  1335 non-null   float64\n",
      " 14  Billing_days                1331 non-null   float64\n",
      " 15  m_billed_units              853 non-null    float64\n",
      "dtypes: float64(11), int32(1), int64(4)\n",
      "memory usage: 172.1 KB\n",
      "None\n"
     ]
    }
   ],
   "source": [
    "sub2 = sub1[[\"q103_survey_type\", \"q216_house_pucca_kachha\", \n",
    "             \"House_type\", \"q218_house_no_stories\",\n",
    "             \"Occupants\", \"House_area_in_sqft\", \"Total_rooms\", \"q427_ac_yn\",\n",
    "             \"tot_lights\", \"Lighting\", \"Space_cooling\", \"Other\", \"Total_app\", \n",
    "             \"q610_elec_bill_physical_yn\", \"Billing_days\", \"m_billed_units\"]]\n",
    "\n",
    "print(sub2.shape)\n",
    "print(sub2.info())"
   ]
  },
  {
   "cell_type": "markdown",
   "id": "9bea1c41-c8a0-4d71-b542-a65e64fde730",
   "metadata": {},
   "source": [
    "## Removing Outliers of House Area sq.ft"
   ]
  },
  {
   "cell_type": "code",
   "execution_count": 34,
   "id": "519006c4-9591-433e-9cfd-da4564032acc",
   "metadata": {
    "tags": []
   },
   "outputs": [
    {
     "data": {
      "text/plain": [
       "(1327, 16)"
      ]
     },
     "execution_count": 34,
     "metadata": {},
     "output_type": "execute_result"
    }
   ],
   "source": [
    "no_outlier = sub2[(sub2[\"House_area_in_sqft\"] > 35) & (sub2[\"House_area_in_sqft\"] < 10000)]\n",
    "no_outlier.shape"
   ]
  },
  {
   "cell_type": "markdown",
   "id": "63ada04b",
   "metadata": {},
   "source": [
    "## Removing Outliers of Monthly billed units "
   ]
  },
  {
   "cell_type": "code",
   "execution_count": 35,
   "id": "aeb77e30",
   "metadata": {
    "jupyter": {
     "outputs_hidden": true
    },
    "tags": []
   },
   "outputs": [
    {
     "data": {
      "text/plain": [
       "<seaborn.axisgrid.FacetGrid at 0x215fb3005e0>"
      ]
     },
     "execution_count": 35,
     "metadata": {},
     "output_type": "execute_result"
    },
    {
     "data": {
      "image/png": "[encoded data removed]",
      "text/plain": [
       "<Figure size 500x500 with 1 Axes>"
      ]
     },
     "metadata": {},
     "output_type": "display_data"
    }
   ],
   "source": [
    "## Distribution of m_billed_units\n",
    "sns.displot(no_outlier[\"m_billed_units\"], kde = False)"
   ]
  },
  {
   "cell_type": "code",
   "execution_count": 36,
   "id": "b0fb05c7",
   "metadata": {
    "tags": []
   },
   "outputs": [
    {
     "data": {
      "text/plain": [
       "(1245, 16)"
      ]
     },
     "execution_count": 36,
     "metadata": {},
     "output_type": "execute_result"
    }
   ],
   "source": [
    "#- 81 OUTLIER points with monthly billed units as equal to or less than 15 units\n",
    "#- 1 OUTLIER point with 1000 units as monthly consumption\n",
    "\n",
    "## Total of 82 points will be removed AS WE NEED VALID MONTHLY BILL UNITS \n",
    "\n",
    "no_outlier = no_outlier[((no_outlier[\"m_billed_units\"] > 15) & \n",
    "                         (no_outlier[\"m_billed_units\"] != no_outlier[\"m_billed_units\"].max())) | \n",
    "                        (no_outlier[\"m_billed_units\"].isna()) ]\n",
    "no_outlier.shape"
   ]
  },
  {
   "cell_type": "markdown",
   "id": "82a1f665",
   "metadata": {},
   "source": [
    "## Distribution of points in based on Rural or Urban"
   ]
  },
  {
   "cell_type": "code",
   "execution_count": 37,
   "id": "7b3cdf8e",
   "metadata": {},
   "outputs": [
    {
     "data": {
      "text/html": [
       "<div>\n",
       "<style scoped>\n",
       "    .dataframe tbody tr th:only-of-type {\n",
       "        vertical-align: middle;\n",
       "    }\n",
       "\n",
       "    .dataframe tbody tr th {\n",
       "        vertical-align: top;\n",
       "    }\n",
       "\n",
       "    .dataframe thead th {\n",
       "        text-align: right;\n",
       "    }\n",
       "</style>\n",
       "<table border=\"1\" class=\"dataframe\">\n",
       "  <thead>\n",
       "    <tr style=\"text-align: right;\">\n",
       "      <th>q610_elec_bill_physical_yn</th>\n",
       "      <th>0.0</th>\n",
       "      <th>1.0</th>\n",
       "      <th>All</th>\n",
       "    </tr>\n",
       "    <tr>\n",
       "      <th>q103_survey_type</th>\n",
       "      <th></th>\n",
       "      <th></th>\n",
       "      <th></th>\n",
       "    </tr>\n",
       "  </thead>\n",
       "  <tbody>\n",
       "    <tr>\n",
       "      <th>1</th>\n",
       "      <td>214</td>\n",
       "      <td>417</td>\n",
       "      <td>631</td>\n",
       "    </tr>\n",
       "    <tr>\n",
       "      <th>2</th>\n",
       "      <td>249</td>\n",
       "      <td>365</td>\n",
       "      <td>614</td>\n",
       "    </tr>\n",
       "    <tr>\n",
       "      <th>All</th>\n",
       "      <td>463</td>\n",
       "      <td>782</td>\n",
       "      <td>1245</td>\n",
       "    </tr>\n",
       "  </tbody>\n",
       "</table>\n",
       "</div>"
      ],
      "text/plain": [
       "q610_elec_bill_physical_yn  0.0  1.0   All\n",
       "q103_survey_type                          \n",
       "1                           214  417   631\n",
       "2                           249  365   614\n",
       "All                         463  782  1245"
      ]
     },
     "execution_count": 37,
     "metadata": {},
     "output_type": "execute_result"
    }
   ],
   "source": [
    "pd.crosstab(index = no_outlier[\"q103_survey_type\"], columns = no_outlier[\"q610_elec_bill_physical_yn\"], \n",
    "            dropna = True, margins = True)"
   ]
  },
  {
   "cell_type": "markdown",
   "id": "dd3a22a5-d0a4-4044-88eb-d32c637b9ae3",
   "metadata": {
    "tags": []
   },
   "source": [
    "# Analysis for Rural region"
   ]
  },
  {
   "cell_type": "code",
   "execution_count": 38,
   "id": "075960fb",
   "metadata": {},
   "outputs": [
    {
     "data": {
      "text/plain": [
       "(631, 16)"
      ]
     },
     "execution_count": 38,
     "metadata": {},
     "output_type": "execute_result"
    }
   ],
   "source": [
    "rural = no_outlier[no_outlier[\"q103_survey_type\"] == 1]\n",
    "rural_reg = rural.copy()\n",
    "rural_reg.shape"
   ]
  },
  {
   "cell_type": "code",
   "execution_count": 39,
   "id": "19cb8e28",
   "metadata": {
    "jupyter": {
     "outputs_hidden": true
    }
   },
   "outputs": [
    {
     "name": "stdout",
     "output_type": "stream",
     "text": [
      "<class 'pandas.core.frame.DataFrame'>\n",
      "Index: 631 entries, 60 to 14790\n",
      "Data columns (total 16 columns):\n",
      " #   Column                      Non-Null Count  Dtype  \n",
      "---  ------                      --------------  -----  \n",
      " 0   q103_survey_type            631 non-null    int64  \n",
      " 1   q216_house_pucca_kachha     631 non-null    int64  \n",
      " 2   House_type                  631 non-null    int32  \n",
      " 3   q218_house_no_stories       536 non-null    float64\n",
      " 4   Occupants                   631 non-null    int64  \n",
      " 5   House_area_in_sqft          631 non-null    float64\n",
      " 6   Total_rooms                 631 non-null    int64  \n",
      " 7   q427_ac_yn                  631 non-null    float64\n",
      " 8   tot_lights                  631 non-null    float64\n",
      " 9   Lighting                    631 non-null    float64\n",
      " 10  Space_cooling               631 non-null    float64\n",
      " 11  Other                       631 non-null    float64\n",
      " 12  Total_app                   631 non-null    float64\n",
      " 13  q610_elec_bill_physical_yn  631 non-null    float64\n",
      " 14  Billing_days                629 non-null    float64\n",
      " 15  m_billed_units              406 non-null    float64\n",
      "dtypes: float64(11), int32(1), int64(4)\n",
      "memory usage: 81.3 KB\n"
     ]
    }
   ],
   "source": [
    "rural_reg.info()"
   ]
  },
  {
   "cell_type": "markdown",
   "id": "d70fd6d2",
   "metadata": {},
   "source": [
    "### Replacing the missing values for monthly billed units"
   ]
  },
  {
   "cell_type": "code",
   "execution_count": 40,
   "id": "6be9666d",
   "metadata": {},
   "outputs": [],
   "source": [
    "# To get the mean and median values for the column\n",
    "rural_reg[\"m_billed_units\"].describe()\n",
    "\n",
    "# Replacing the NA values\n",
    "rural_reg[\"m_billed_units\"].fillna(rural_reg[\"m_billed_units\"].median(), inplace = True)"
   ]
  },
  {
   "cell_type": "markdown",
   "id": "f5da452b",
   "metadata": {},
   "source": [
    "## Clustering"
   ]
  },
  {
   "cell_type": "code",
   "execution_count": 41,
   "id": "0c096638",
   "metadata": {},
   "outputs": [
    {
     "data": {
      "text/html": [
       "<div>\n",
       "<style scoped>\n",
       "    .dataframe tbody tr th:only-of-type {\n",
       "        vertical-align: middle;\n",
       "    }\n",
       "\n",
       "    .dataframe tbody tr th {\n",
       "        vertical-align: top;\n",
       "    }\n",
       "\n",
       "    .dataframe thead th {\n",
       "        text-align: right;\n",
       "    }\n",
       "</style>\n",
       "<table border=\"1\" class=\"dataframe\">\n",
       "  <thead>\n",
       "    <tr style=\"text-align: right;\">\n",
       "      <th></th>\n",
       "      <th>Occupants</th>\n",
       "      <th>House_area_in_sqft</th>\n",
       "      <th>Total_rooms</th>\n",
       "      <th>Lighting</th>\n",
       "      <th>Space_cooling</th>\n",
       "      <th>Other</th>\n",
       "    </tr>\n",
       "  </thead>\n",
       "  <tbody>\n",
       "    <tr>\n",
       "      <th>count</th>\n",
       "      <td>631.000000</td>\n",
       "      <td>631.000000</td>\n",
       "      <td>631.000000</td>\n",
       "      <td>631.000000</td>\n",
       "      <td>631.000000</td>\n",
       "      <td>631.000000</td>\n",
       "    </tr>\n",
       "    <tr>\n",
       "      <th>mean</th>\n",
       "      <td>5.204437</td>\n",
       "      <td>822.938621</td>\n",
       "      <td>3.847861</td>\n",
       "      <td>107.584786</td>\n",
       "      <td>166.687797</td>\n",
       "      <td>1021.665610</td>\n",
       "    </tr>\n",
       "    <tr>\n",
       "      <th>std</th>\n",
       "      <td>1.797100</td>\n",
       "      <td>1091.364667</td>\n",
       "      <td>1.467854</td>\n",
       "      <td>84.799345</td>\n",
       "      <td>169.263003</td>\n",
       "      <td>933.188537</td>\n",
       "    </tr>\n",
       "    <tr>\n",
       "      <th>min</th>\n",
       "      <td>1.000000</td>\n",
       "      <td>40.000000</td>\n",
       "      <td>1.000000</td>\n",
       "      <td>9.000000</td>\n",
       "      <td>0.000000</td>\n",
       "      <td>0.000000</td>\n",
       "    </tr>\n",
       "    <tr>\n",
       "      <th>25%</th>\n",
       "      <td>4.000000</td>\n",
       "      <td>383.750000</td>\n",
       "      <td>3.000000</td>\n",
       "      <td>36.000000</td>\n",
       "      <td>80.000000</td>\n",
       "      <td>120.000000</td>\n",
       "    </tr>\n",
       "    <tr>\n",
       "      <th>50%</th>\n",
       "      <td>5.000000</td>\n",
       "      <td>540.000000</td>\n",
       "      <td>4.000000</td>\n",
       "      <td>84.000000</td>\n",
       "      <td>160.000000</td>\n",
       "      <td>866.000000</td>\n",
       "    </tr>\n",
       "    <tr>\n",
       "      <th>75%</th>\n",
       "      <td>6.000000</td>\n",
       "      <td>800.000000</td>\n",
       "      <td>5.000000</td>\n",
       "      <td>174.000000</td>\n",
       "      <td>215.000000</td>\n",
       "      <td>1620.000000</td>\n",
       "    </tr>\n",
       "    <tr>\n",
       "      <th>max</th>\n",
       "      <td>16.000000</td>\n",
       "      <td>7747.200000</td>\n",
       "      <td>12.000000</td>\n",
       "      <td>513.000000</td>\n",
       "      <td>2455.000000</td>\n",
       "      <td>6350.000000</td>\n",
       "    </tr>\n",
       "  </tbody>\n",
       "</table>\n",
       "</div>"
      ],
      "text/plain": [
       "        Occupants  House_area_in_sqft  Total_rooms    Lighting  Space_cooling  \\\n",
       "count  631.000000          631.000000   631.000000  631.000000     631.000000   \n",
       "mean     5.204437          822.938621     3.847861  107.584786     166.687797   \n",
       "std      1.797100         1091.364667     1.467854   84.799345     169.263003   \n",
       "min      1.000000           40.000000     1.000000    9.000000       0.000000   \n",
       "25%      4.000000          383.750000     3.000000   36.000000      80.000000   \n",
       "50%      5.000000          540.000000     4.000000   84.000000     160.000000   \n",
       "75%      6.000000          800.000000     5.000000  174.000000     215.000000   \n",
       "max     16.000000         7747.200000    12.000000  513.000000    2455.000000   \n",
       "\n",
       "             Other  \n",
       "count   631.000000  \n",
       "mean   1021.665610  \n",
       "std     933.188537  \n",
       "min       0.000000  \n",
       "25%     120.000000  \n",
       "50%     866.000000  \n",
       "75%    1620.000000  \n",
       "max    6350.000000  "
      ]
     },
     "execution_count": 41,
     "metadata": {},
     "output_type": "execute_result"
    }
   ],
   "source": [
    "## Selecting the necessary variables\n",
    "r_data = rural_reg[['Occupants', 'House_area_in_sqft', 'Total_rooms', 'Lighting', 'Space_cooling', 'Other']]\n",
    "r_data.describe()"
   ]
  },
  {
   "cell_type": "code",
   "execution_count": 42,
   "id": "2cc18436",
   "metadata": {},
   "outputs": [],
   "source": [
    "## FEATURE SCALING\n",
    "sc = StandardScaler()\n",
    "r_scaled = sc.fit_transform(r_data)\n",
    "r_s = pd.DataFrame(r_scaled)"
   ]
  },
  {
   "cell_type": "markdown",
   "id": "b7b5cafa",
   "metadata": {},
   "source": [
    "### K - Means Clustering"
   ]
  },
  {
   "cell_type": "code",
   "execution_count": 65,
   "id": "40ca8e3e",
   "metadata": {},
   "outputs": [
    {
     "data": {
      "text/html": [
       "<style>#sk-container-id-4 {\n",
       "  /* Definition of color scheme common for light and dark mode */\n",
       "  --sklearn-color-text: black;\n",
       "  --sklearn-color-line: gray;\n",
       "  /* Definition of color scheme for unfitted estimators */\n",
       "  --sklearn-color-unfitted-level-0: #fff5e6;\n",
       "  --sklearn-color-unfitted-level-1: #f6e4d2;\n",
       "  --sklearn-color-unfitted-level-2: #ffe0b3;\n",
       "  --sklearn-color-unfitted-level-3: chocolate;\n",
       "  /* Definition of color scheme for fitted estimators */\n",
       "  --sklearn-color-fitted-level-0: #f0f8ff;\n",
       "  --sklearn-color-fitted-level-1: #d4ebff;\n",
       "  --sklearn-color-fitted-level-2: #b3dbfd;\n",
       "  --sklearn-color-fitted-level-3: cornflowerblue;\n",
       "\n",
       "  /* Specific color for light theme */\n",
       "  --sklearn-color-text-on-default-background: var(--sg-text-color, var(--theme-code-foreground, var(--jp-content-font-color1, black)));\n",
       "  --sklearn-color-background: var(--sg-background-color, var(--theme-background, var(--jp-layout-color0, white)));\n",
       "  --sklearn-color-border-box: var(--sg-text-color, var(--theme-code-foreground, var(--jp-content-font-color1, black)));\n",
       "  --sklearn-color-icon: #696969;\n",
       "\n",
       "  @media (prefers-color-scheme: dark) {\n",
       "    /* Redefinition of color scheme for dark theme */\n",
       "    --sklearn-color-text-on-default-background: var(--sg-text-color, var(--theme-code-foreground, var(--jp-content-font-color1, white)));\n",
       "    --sklearn-color-background: var(--sg-background-color, var(--theme-background, var(--jp-layout-color0, #111)));\n",
       "    --sklearn-color-border-box: var(--sg-text-color, var(--theme-code-foreground, var(--jp-content-font-color1, white)));\n",
       "    --sklearn-color-icon: #878787;\n",
       "  }\n",
       "}\n",
       "\n",
       "#sk-container-id-4 {\n",
       "  color: var(--sklearn-color-text);\n",
       "}\n",
       "\n",
       "#sk-container-id-4 pre {\n",
       "  padding: 0;\n",
       "}\n",
       "\n",
       "#sk-container-id-4 input.sk-hidden--visually {\n",
       "  border: 0;\n",
       "  clip: rect(1px 1px 1px 1px);\n",
       "  clip: rect(1px, 1px, 1px, 1px);\n",
       "  height: 1px;\n",
       "  margin: -1px;\n",
       "  overflow: hidden;\n",
       "  padding: 0;\n",
       "  position: absolute;\n",
       "  width: 1px;\n",
       "}\n",
       "\n",
       "#sk-container-id-4 div.sk-dashed-wrapped {\n",
       "  border: 1px dashed var(--sklearn-color-line);\n",
       "  margin: 0 0.4em 0.5em 0.4em;\n",
       "  box-sizing: border-box;\n",
       "  padding-bottom: 0.4em;\n",
       "  background-color: var(--sklearn-color-background);\n",
       "}\n",
       "\n",
       "#sk-container-id-4 div.sk-container {\n",
       "  /* jupyter's `normalize.less` sets `[hidden] { display: none; }`\n",
       "     but bootstrap.min.css set `[hidden] { display: none !important; }`\n",
       "     so we also need the `!important` here to be able to override the\n",
       "     default hidden behavior on the sphinx rendered scikit-learn.org.\n",
       "     See: https://github.com/scikit-learn/scikit-learn/issues/21755 */\n",
       "  display: inline-block !important;\n",
       "  position: relative;\n",
       "}\n",
       "\n",
       "#sk-container-id-4 div.sk-text-repr-fallback {\n",
       "  display: none;\n",
       "}\n",
       "\n",
       "div.sk-parallel-item,\n",
       "div.sk-serial,\n",
       "div.sk-item {\n",
       "  /* draw centered vertical line to link estimators */\n",
       "  background-image: linear-gradient(var(--sklearn-color-text-on-default-background), var(--sklearn-color-text-on-default-background));\n",
       "  background-size: 2px 100%;\n",
       "  background-repeat: no-repeat;\n",
       "  background-position: center center;\n",
       "}\n",
       "\n",
       "/* Parallel-specific style estimator block */\n",
       "\n",
       "#sk-container-id-4 div.sk-parallel-item::after {\n",
       "  content: \"\";\n",
       "  width: 100%;\n",
       "  border-bottom: 2px solid var(--sklearn-color-text-on-default-background);\n",
       "  flex-grow: 1;\n",
       "}\n",
       "\n",
       "#sk-container-id-4 div.sk-parallel {\n",
       "  display: flex;\n",
       "  align-items: stretch;\n",
       "  justify-content: center;\n",
       "  background-color: var(--sklearn-color-background);\n",
       "  position: relative;\n",
       "}\n",
       "\n",
       "#sk-container-id-4 div.sk-parallel-item {\n",
       "  display: flex;\n",
       "  flex-direction: column;\n",
       "}\n",
       "\n",
       "#sk-container-id-4 div.sk-parallel-item:first-child::after {\n",
       "  align-self: flex-end;\n",
       "  width: 50%;\n",
       "}\n",
       "\n",
       "#sk-container-id-4 div.sk-parallel-item:last-child::after {\n",
       "  align-self: flex-start;\n",
       "  width: 50%;\n",
       "}\n",
       "\n",
       "#sk-container-id-4 div.sk-parallel-item:only-child::after {\n",
       "  width: 0;\n",
       "}\n",
       "\n",
       "/* Serial-specific style estimator block */\n",
       "\n",
       "#sk-container-id-4 div.sk-serial {\n",
       "  display: flex;\n",
       "  flex-direction: column;\n",
       "  align-items: center;\n",
       "  background-color: var(--sklearn-color-background);\n",
       "  padding-right: 1em;\n",
       "  padding-left: 1em;\n",
       "}\n",
       "\n",
       "\n",
       "/* Toggleable style: style used for estimator/Pipeline/ColumnTransformer box that is\n",
       "clickable and can be expanded/collapsed.\n",
       "- Pipeline and ColumnTransformer use this feature and define the default style\n",
       "- Estimators will overwrite some part of the style using the `sk-estimator` class\n",
       "*/\n",
       "\n",
       "/* Pipeline and ColumnTransformer style (default) */\n",
       "\n",
       "#sk-container-id-4 div.sk-toggleable {\n",
       "  /* Default theme specific background. It is overwritten whether we have a\n",
       "  specific estimator or a Pipeline/ColumnTransformer */\n",
       "  background-color: var(--sklearn-color-background);\n",
       "}\n",
       "\n",
       "/* Toggleable label */\n",
       "#sk-container-id-4 label.sk-toggleable__label {\n",
       "  cursor: pointer;\n",
       "  display: block;\n",
       "  width: 100%;\n",
       "  margin-bottom: 0;\n",
       "  padding: 0.5em;\n",
       "  box-sizing: border-box;\n",
       "  text-align: center;\n",
       "}\n",
       "\n",
       "#sk-container-id-4 label.sk-toggleable__label-arrow:before {\n",
       "  /* Arrow on the left of the label */\n",
       "  content: \"▸\";\n",
       "  float: left;\n",
       "  margin-right: 0.25em;\n",
       "  color: var(--sklearn-color-icon);\n",
       "}\n",
       "\n",
       "#sk-container-id-4 label.sk-toggleable__label-arrow:hover:before {\n",
       "  color: var(--sklearn-color-text);\n",
       "}\n",
       "\n",
       "/* Toggleable content - dropdown */\n",
       "\n",
       "#sk-container-id-4 div.sk-toggleable__content {\n",
       "  max-height: 0;\n",
       "  max-width: 0;\n",
       "  overflow: hidden;\n",
       "  text-align: left;\n",
       "  /* unfitted */\n",
       "  background-color: var(--sklearn-color-unfitted-level-0);\n",
       "}\n",
       "\n",
       "#sk-container-id-4 div.sk-toggleable__content.fitted {\n",
       "  /* fitted */\n",
       "  background-color: var(--sklearn-color-fitted-level-0);\n",
       "}\n",
       "\n",
       "#sk-container-id-4 div.sk-toggleable__content pre {\n",
       "  margin: 0.2em;\n",
       "  border-radius: 0.25em;\n",
       "  color: var(--sklearn-color-text);\n",
       "  /* unfitted */\n",
       "  background-color: var(--sklearn-color-unfitted-level-0);\n",
       "}\n",
       "\n",
       "#sk-container-id-4 div.sk-toggleable__content.fitted pre {\n",
       "  /* unfitted */\n",
       "  background-color: var(--sklearn-color-fitted-level-0);\n",
       "}\n",
       "\n",
       "#sk-container-id-4 input.sk-toggleable__control:checked~div.sk-toggleable__content {\n",
       "  /* Expand drop-down */\n",
       "  max-height: 200px;\n",
       "  max-width: 100%;\n",
       "  overflow: auto;\n",
       "}\n",
       "\n",
       "#sk-container-id-4 input.sk-toggleable__control:checked~label.sk-toggleable__label-arrow:before {\n",
       "  content: \"▾\";\n",
       "}\n",
       "\n",
       "/* Pipeline/ColumnTransformer-specific style */\n",
       "\n",
       "#sk-container-id-4 div.sk-label input.sk-toggleable__control:checked~label.sk-toggleable__label {\n",
       "  color: var(--sklearn-color-text);\n",
       "  background-color: var(--sklearn-color-unfitted-level-2);\n",
       "}\n",
       "\n",
       "#sk-container-id-4 div.sk-label.fitted input.sk-toggleable__control:checked~label.sk-toggleable__label {\n",
       "  background-color: var(--sklearn-color-fitted-level-2);\n",
       "}\n",
       "\n",
       "/* Estimator-specific style */\n",
       "\n",
       "/* Colorize estimator box */\n",
       "#sk-container-id-4 div.sk-estimator input.sk-toggleable__control:checked~label.sk-toggleable__label {\n",
       "  /* unfitted */\n",
       "  background-color: var(--sklearn-color-unfitted-level-2);\n",
       "}\n",
       "\n",
       "#sk-container-id-4 div.sk-estimator.fitted input.sk-toggleable__control:checked~label.sk-toggleable__label {\n",
       "  /* fitted */\n",
       "  background-color: var(--sklearn-color-fitted-level-2);\n",
       "}\n",
       "\n",
       "#sk-container-id-4 div.sk-label label.sk-toggleable__label,\n",
       "#sk-container-id-4 div.sk-label label {\n",
       "  /* The background is the default theme color */\n",
       "  color: var(--sklearn-color-text-on-default-background);\n",
       "}\n",
       "\n",
       "/* On hover, darken the color of the background */\n",
       "#sk-container-id-4 div.sk-label:hover label.sk-toggleable__label {\n",
       "  color: var(--sklearn-color-text);\n",
       "  background-color: var(--sklearn-color-unfitted-level-2);\n",
       "}\n",
       "\n",
       "/* Label box, darken color on hover, fitted */\n",
       "#sk-container-id-4 div.sk-label.fitted:hover label.sk-toggleable__label.fitted {\n",
       "  color: var(--sklearn-color-text);\n",
       "  background-color: var(--sklearn-color-fitted-level-2);\n",
       "}\n",
       "\n",
       "/* Estimator label */\n",
       "\n",
       "#sk-container-id-4 div.sk-label label {\n",
       "  font-family: monospace;\n",
       "  font-weight: bold;\n",
       "  display: inline-block;\n",
       "  line-height: 1.2em;\n",
       "}\n",
       "\n",
       "#sk-container-id-4 div.sk-label-container {\n",
       "  text-align: center;\n",
       "}\n",
       "\n",
       "/* Estimator-specific */\n",
       "#sk-container-id-4 div.sk-estimator {\n",
       "  font-family: monospace;\n",
       "  border: 1px dotted var(--sklearn-color-border-box);\n",
       "  border-radius: 0.25em;\n",
       "  box-sizing: border-box;\n",
       "  margin-bottom: 0.5em;\n",
       "  /* unfitted */\n",
       "  background-color: var(--sklearn-color-unfitted-level-0);\n",
       "}\n",
       "\n",
       "#sk-container-id-4 div.sk-estimator.fitted {\n",
       "  /* fitted */\n",
       "  background-color: var(--sklearn-color-fitted-level-0);\n",
       "}\n",
       "\n",
       "/* on hover */\n",
       "#sk-container-id-4 div.sk-estimator:hover {\n",
       "  /* unfitted */\n",
       "  background-color: var(--sklearn-color-unfitted-level-2);\n",
       "}\n",
       "\n",
       "#sk-container-id-4 div.sk-estimator.fitted:hover {\n",
       "  /* fitted */\n",
       "  background-color: var(--sklearn-color-fitted-level-2);\n",
       "}\n",
       "\n",
       "/* Specification for estimator info (e.g. \"i\" and \"?\") */\n",
       "\n",
       "/* Common style for \"i\" and \"?\" */\n",
       "\n",
       ".sk-estimator-doc-link,\n",
       "a:link.sk-estimator-doc-link,\n",
       "a:visited.sk-estimator-doc-link {\n",
       "  float: right;\n",
       "  font-size: smaller;\n",
       "  line-height: 1em;\n",
       "  font-family: monospace;\n",
       "  background-color: var(--sklearn-color-background);\n",
       "  border-radius: 1em;\n",
       "  height: 1em;\n",
       "  width: 1em;\n",
       "  text-decoration: none !important;\n",
       "  margin-left: 1ex;\n",
       "  /* unfitted */\n",
       "  border: var(--sklearn-color-unfitted-level-1) 1pt solid;\n",
       "  color: var(--sklearn-color-unfitted-level-1);\n",
       "}\n",
       "\n",
       ".sk-estimator-doc-link.fitted,\n",
       "a:link.sk-estimator-doc-link.fitted,\n",
       "a:visited.sk-estimator-doc-link.fitted {\n",
       "  /* fitted */\n",
       "  border: var(--sklearn-color-fitted-level-1) 1pt solid;\n",
       "  color: var(--sklearn-color-fitted-level-1);\n",
       "}\n",
       "\n",
       "/* On hover */\n",
       "div.sk-estimator:hover .sk-estimator-doc-link:hover,\n",
       ".sk-estimator-doc-link:hover,\n",
       "div.sk-label-container:hover .sk-estimator-doc-link:hover,\n",
       ".sk-estimator-doc-link:hover {\n",
       "  /* unfitted */\n",
       "  background-color: var(--sklearn-color-unfitted-level-3);\n",
       "  color: var(--sklearn-color-background);\n",
       "  text-decoration: none;\n",
       "}\n",
       "\n",
       "div.sk-estimator.fitted:hover .sk-estimator-doc-link.fitted:hover,\n",
       ".sk-estimator-doc-link.fitted:hover,\n",
       "div.sk-label-container:hover .sk-estimator-doc-link.fitted:hover,\n",
       ".sk-estimator-doc-link.fitted:hover {\n",
       "  /* fitted */\n",
       "  background-color: var(--sklearn-color-fitted-level-3);\n",
       "  color: var(--sklearn-color-background);\n",
       "  text-decoration: none;\n",
       "}\n",
       "\n",
       "/* Span, style for the box shown on hovering the info icon */\n",
       ".sk-estimator-doc-link span {\n",
       "  display: none;\n",
       "  z-index: 9999;\n",
       "  position: relative;\n",
       "  font-weight: normal;\n",
       "  right: .2ex;\n",
       "  padding: .5ex;\n",
       "  margin: .5ex;\n",
       "  width: min-content;\n",
       "  min-width: 20ex;\n",
       "  max-width: 50ex;\n",
       "  color: var(--sklearn-color-text);\n",
       "  box-shadow: 2pt 2pt 4pt #999;\n",
       "  /* unfitted */\n",
       "  background: var(--sklearn-color-unfitted-level-0);\n",
       "  border: .5pt solid var(--sklearn-color-unfitted-level-3);\n",
       "}\n",
       "\n",
       ".sk-estimator-doc-link.fitted span {\n",
       "  /* fitted */\n",
       "  background: var(--sklearn-color-fitted-level-0);\n",
       "  border: var(--sklearn-color-fitted-level-3);\n",
       "}\n",
       "\n",
       ".sk-estimator-doc-link:hover span {\n",
       "  display: block;\n",
       "}\n",
       "\n",
       "/* \"?\"-specific style due to the `<a>` HTML tag */\n",
       "\n",
       "#sk-container-id-4 a.estimator_doc_link {\n",
       "  float: right;\n",
       "  font-size: 1rem;\n",
       "  line-height: 1em;\n",
       "  font-family: monospace;\n",
       "  background-color: var(--sklearn-color-background);\n",
       "  border-radius: 1rem;\n",
       "  height: 1rem;\n",
       "  width: 1rem;\n",
       "  text-decoration: none;\n",
       "  /* unfitted */\n",
       "  color: var(--sklearn-color-unfitted-level-1);\n",
       "  border: var(--sklearn-color-unfitted-level-1) 1pt solid;\n",
       "}\n",
       "\n",
       "#sk-container-id-4 a.estimator_doc_link.fitted {\n",
       "  /* fitted */\n",
       "  border: var(--sklearn-color-fitted-level-1) 1pt solid;\n",
       "  color: var(--sklearn-color-fitted-level-1);\n",
       "}\n",
       "\n",
       "/* On hover */\n",
       "#sk-container-id-4 a.estimator_doc_link:hover {\n",
       "  /* unfitted */\n",
       "  background-color: var(--sklearn-color-unfitted-level-3);\n",
       "  color: var(--sklearn-color-background);\n",
       "  text-decoration: none;\n",
       "}\n",
       "\n",
       "#sk-container-id-4 a.estimator_doc_link.fitted:hover {\n",
       "  /* fitted */\n",
       "  background-color: var(--sklearn-color-fitted-level-3);\n",
       "}\n",
       "</style><div id=\"sk-container-id-4\" class=\"sk-top-container\"><div class=\"sk-text-repr-fallback\"><pre>KMeans(n_clusters=3, random_state=42)</pre><b>In a Jupyter environment, please rerun this cell to show the HTML representation or trust the notebook. <br />On GitHub, the HTML representation is unable to render, please try loading this page with nbviewer.org.</b></div><div class=\"sk-container\" hidden><div class=\"sk-item\"><div class=\"sk-estimator fitted sk-toggleable\"><input class=\"sk-toggleable__control sk-hidden--visually\" id=\"sk-estimator-id-4\" type=\"checkbox\" checked><label for=\"sk-estimator-id-4\" class=\"sk-toggleable__label fitted sk-toggleable__label-arrow fitted\">&nbsp;&nbsp;KMeans<a class=\"sk-estimator-doc-link fitted\" rel=\"noreferrer\" target=\"_blank\" href=\"https://scikit-learn.org/1.4/modules/generated/sklearn.cluster.KMeans.html\">?<span>Documentation for KMeans</span></a><span class=\"sk-estimator-doc-link fitted\">i<span>Fitted</span></span></label><div class=\"sk-toggleable__content fitted\"><pre>KMeans(n_clusters=3, random_state=42)</pre></div> </div></div></div></div>"
      ],
      "text/plain": [
       "KMeans(n_clusters=3, random_state=42)"
      ]
     },
     "execution_count": 65,
     "metadata": {},
     "output_type": "execute_result"
    }
   ],
   "source": [
    "# Developing the model and fitting the model to the data\n",
    "\n",
    "km_model = KMeans(n_clusters = 3, random_state = 42)\n",
    "km_model.fit(r_scaled)"
   ]
  },
  {
   "cell_type": "code",
   "execution_count": 66,
   "id": "41af12e8",
   "metadata": {},
   "outputs": [
    {
     "name": "stdout",
     "output_type": "stream",
     "text": [
      "Counter({1: 358, 0: 250, 2: 23})\n",
      "0.2749015933281413\n"
     ]
    }
   ],
   "source": [
    "# No.of points in each cluster \n",
    "print(Counter(km_model.labels_))\n",
    "print(silhouette_score(r_scaled, km_model.labels_)) "
   ]
  },
  {
   "cell_type": "code",
   "execution_count": 45,
   "id": "7ae84d64",
   "metadata": {},
   "outputs": [],
   "source": [
    "## Adding the cluster number to ORIGINAL data\n",
    "r1 = rural_reg.copy()\n",
    "r1[\"Cluster\"] = km_model.labels_ + 1       ## '+ 1' === is done to start the cluster numbering from 1 instead of 0"
   ]
  },
  {
   "cell_type": "code",
   "execution_count": 46,
   "id": "dec6c81b",
   "metadata": {
    "scrolled": true
   },
   "outputs": [
    {
     "data": {
      "text/html": [
       "<div>\n",
       "<style scoped>\n",
       "    .dataframe tbody tr th:only-of-type {\n",
       "        vertical-align: middle;\n",
       "    }\n",
       "\n",
       "    .dataframe tbody tr th {\n",
       "        vertical-align: top;\n",
       "    }\n",
       "\n",
       "    .dataframe thead th {\n",
       "        text-align: right;\n",
       "    }\n",
       "</style>\n",
       "<table border=\"1\" class=\"dataframe\">\n",
       "  <thead>\n",
       "    <tr style=\"text-align: right;\">\n",
       "      <th></th>\n",
       "      <th>Occupants</th>\n",
       "      <th>House_area_in_sqft</th>\n",
       "      <th>Total_rooms</th>\n",
       "      <th>Lighting</th>\n",
       "      <th>Space_cooling</th>\n",
       "      <th>Other</th>\n",
       "      <th>Cluster</th>\n",
       "    </tr>\n",
       "    <tr>\n",
       "      <th>Cluster</th>\n",
       "      <th></th>\n",
       "      <th></th>\n",
       "      <th></th>\n",
       "      <th></th>\n",
       "      <th></th>\n",
       "      <th></th>\n",
       "      <th></th>\n",
       "    </tr>\n",
       "  </thead>\n",
       "  <tbody>\n",
       "    <tr>\n",
       "      <th>1</th>\n",
       "      <td>6.1</td>\n",
       "      <td>663.4</td>\n",
       "      <td>4.6</td>\n",
       "      <td>174.7</td>\n",
       "      <td>232.0</td>\n",
       "      <td>1577.4</td>\n",
       "      <td>250</td>\n",
       "    </tr>\n",
       "    <tr>\n",
       "      <th>2</th>\n",
       "      <td>4.6</td>\n",
       "      <td>608.5</td>\n",
       "      <td>3.2</td>\n",
       "      <td>63.8</td>\n",
       "      <td>119.4</td>\n",
       "      <td>616.2</td>\n",
       "      <td>358</td>\n",
       "    </tr>\n",
       "    <tr>\n",
       "      <th>3</th>\n",
       "      <td>5.2</td>\n",
       "      <td>5895.6</td>\n",
       "      <td>5.1</td>\n",
       "      <td>58.5</td>\n",
       "      <td>192.6</td>\n",
       "      <td>1293.0</td>\n",
       "      <td>23</td>\n",
       "    </tr>\n",
       "  </tbody>\n",
       "</table>\n",
       "</div>"
      ],
      "text/plain": [
       "         Occupants  House_area_in_sqft  Total_rooms  Lighting  Space_cooling  \\\n",
       "Cluster                                                                        \n",
       "1              6.1               663.4          4.6     174.7          232.0   \n",
       "2              4.6               608.5          3.2      63.8          119.4   \n",
       "3              5.2              5895.6          5.1      58.5          192.6   \n",
       "\n",
       "          Other  Cluster  \n",
       "Cluster                   \n",
       "1        1577.4      250  \n",
       "2         616.2      358  \n",
       "3        1293.0       23  "
      ]
     },
     "execution_count": 46,
     "metadata": {},
     "output_type": "execute_result"
    }
   ],
   "source": [
    "##SUMMARY\n",
    "km_r1_summary = r1.groupby([\"Cluster\"]).agg({\"Occupants\" : \"mean\", \"House_area_in_sqft\" : \"mean\", \"Total_rooms\" : \"mean\", \n",
    "                                             \"Lighting\" : \"mean\", \"Space_cooling\" : \"mean\", \"Other\" : \"mean\", \n",
    "                                             \"Cluster\" : \"count\"})\n",
    "km_r1_summary = round(km_r1_summary, 1)\n",
    "km_r1_summary"
   ]
  },
  {
   "cell_type": "markdown",
   "id": "80bd2c20-c355-44ba-b3c7-f5661a904c33",
   "metadata": {
    "tags": []
   },
   "source": [
    "# Analysis for Urban region"
   ]
  },
  {
   "cell_type": "code",
   "execution_count": 47,
   "id": "42d80d6e",
   "metadata": {},
   "outputs": [
    {
     "data": {
      "text/plain": [
       "(614, 16)"
      ]
     },
     "execution_count": 47,
     "metadata": {},
     "output_type": "execute_result"
    }
   ],
   "source": [
    "urban = no_outlier[no_outlier[\"q103_survey_type\"] == 2]\n",
    "urban_reg = urban.copy()\n",
    "urban_reg.shape"
   ]
  },
  {
   "cell_type": "code",
   "execution_count": 48,
   "id": "23cb0f52",
   "metadata": {
    "jupyter": {
     "outputs_hidden": true
    }
   },
   "outputs": [
    {
     "name": "stdout",
     "output_type": "stream",
     "text": [
      "<class 'pandas.core.frame.DataFrame'>\n",
      "Index: 614 entries, 600 to 14830\n",
      "Data columns (total 16 columns):\n",
      " #   Column                      Non-Null Count  Dtype  \n",
      "---  ------                      --------------  -----  \n",
      " 0   q103_survey_type            614 non-null    int64  \n",
      " 1   q216_house_pucca_kachha     614 non-null    int64  \n",
      " 2   House_type                  614 non-null    int32  \n",
      " 3   q218_house_no_stories       592 non-null    float64\n",
      " 4   Occupants                   614 non-null    int64  \n",
      " 5   House_area_in_sqft          614 non-null    float64\n",
      " 6   Total_rooms                 614 non-null    int64  \n",
      " 7   q427_ac_yn                  614 non-null    float64\n",
      " 8   tot_lights                  614 non-null    float64\n",
      " 9   Lighting                    614 non-null    float64\n",
      " 10  Space_cooling               614 non-null    float64\n",
      " 11  Other                       614 non-null    float64\n",
      " 12  Total_app                   614 non-null    float64\n",
      " 13  q610_elec_bill_physical_yn  614 non-null    float64\n",
      " 14  Billing_days                612 non-null    float64\n",
      " 15  m_billed_units              362 non-null    float64\n",
      "dtypes: float64(11), int32(1), int64(4)\n",
      "memory usage: 79.1 KB\n"
     ]
    }
   ],
   "source": [
    "urban_reg.info()"
   ]
  },
  {
   "cell_type": "markdown",
   "id": "0575a02e",
   "metadata": {},
   "source": [
    "### Replacing the missing values for monthly billed units"
   ]
  },
  {
   "cell_type": "code",
   "execution_count": 49,
   "id": "a59ba992",
   "metadata": {},
   "outputs": [],
   "source": [
    "# To get the mean and median values for the column\n",
    "urban_reg[\"m_billed_units\"].describe()\n",
    "\n",
    "# Replacing the NA values\n",
    "urban_reg[\"m_billed_units\"].fillna(urban_reg[\"m_billed_units\"].median(), inplace = True)"
   ]
  },
  {
   "cell_type": "markdown",
   "id": "4a8bfd9e",
   "metadata": {},
   "source": [
    "## Clustering"
   ]
  },
  {
   "cell_type": "code",
   "execution_count": 51,
   "id": "784a7fe8",
   "metadata": {},
   "outputs": [
    {
     "data": {
      "text/html": [
       "<div>\n",
       "<style scoped>\n",
       "    .dataframe tbody tr th:only-of-type {\n",
       "        vertical-align: middle;\n",
       "    }\n",
       "\n",
       "    .dataframe tbody tr th {\n",
       "        vertical-align: top;\n",
       "    }\n",
       "\n",
       "    .dataframe thead th {\n",
       "        text-align: right;\n",
       "    }\n",
       "</style>\n",
       "<table border=\"1\" class=\"dataframe\">\n",
       "  <thead>\n",
       "    <tr style=\"text-align: right;\">\n",
       "      <th></th>\n",
       "      <th>Occupants</th>\n",
       "      <th>House_area_in_sqft</th>\n",
       "      <th>Total_rooms</th>\n",
       "      <th>Lighting</th>\n",
       "      <th>Space_cooling</th>\n",
       "      <th>Other</th>\n",
       "    </tr>\n",
       "  </thead>\n",
       "  <tbody>\n",
       "    <tr>\n",
       "      <th>count</th>\n",
       "      <td>614.000000</td>\n",
       "      <td>614.000000</td>\n",
       "      <td>614.000000</td>\n",
       "      <td>614.000000</td>\n",
       "      <td>614.000000</td>\n",
       "      <td>614.000000</td>\n",
       "    </tr>\n",
       "    <tr>\n",
       "      <th>mean</th>\n",
       "      <td>4.825733</td>\n",
       "      <td>707.700000</td>\n",
       "      <td>3.138436</td>\n",
       "      <td>114.053746</td>\n",
       "      <td>480.912052</td>\n",
       "      <td>1683.950326</td>\n",
       "    </tr>\n",
       "    <tr>\n",
       "      <th>std</th>\n",
       "      <td>1.776387</td>\n",
       "      <td>1016.861075</td>\n",
       "      <td>1.623257</td>\n",
       "      <td>76.401375</td>\n",
       "      <td>783.852263</td>\n",
       "      <td>846.482844</td>\n",
       "    </tr>\n",
       "    <tr>\n",
       "      <th>min</th>\n",
       "      <td>1.000000</td>\n",
       "      <td>80.000000</td>\n",
       "      <td>1.000000</td>\n",
       "      <td>9.000000</td>\n",
       "      <td>55.000000</td>\n",
       "      <td>0.000000</td>\n",
       "    </tr>\n",
       "    <tr>\n",
       "      <th>25%</th>\n",
       "      <td>4.000000</td>\n",
       "      <td>250.000000</td>\n",
       "      <td>2.000000</td>\n",
       "      <td>56.250000</td>\n",
       "      <td>135.000000</td>\n",
       "      <td>1120.000000</td>\n",
       "    </tr>\n",
       "    <tr>\n",
       "      <th>50%</th>\n",
       "      <td>4.000000</td>\n",
       "      <td>400.000000</td>\n",
       "      <td>3.000000</td>\n",
       "      <td>99.000000</td>\n",
       "      <td>160.000000</td>\n",
       "      <td>1743.000000</td>\n",
       "    </tr>\n",
       "    <tr>\n",
       "      <th>75%</th>\n",
       "      <td>6.000000</td>\n",
       "      <td>700.000000</td>\n",
       "      <td>4.000000</td>\n",
       "      <td>160.000000</td>\n",
       "      <td>280.000000</td>\n",
       "      <td>2336.000000</td>\n",
       "    </tr>\n",
       "    <tr>\n",
       "      <th>max</th>\n",
       "      <td>14.000000</td>\n",
       "      <td>7316.800000</td>\n",
       "      <td>10.000000</td>\n",
       "      <td>547.000000</td>\n",
       "      <td>4520.000000</td>\n",
       "      <td>4485.000000</td>\n",
       "    </tr>\n",
       "  </tbody>\n",
       "</table>\n",
       "</div>"
      ],
      "text/plain": [
       "        Occupants  House_area_in_sqft  Total_rooms    Lighting  Space_cooling  \\\n",
       "count  614.000000          614.000000   614.000000  614.000000     614.000000   \n",
       "mean     4.825733          707.700000     3.138436  114.053746     480.912052   \n",
       "std      1.776387         1016.861075     1.623257   76.401375     783.852263   \n",
       "min      1.000000           80.000000     1.000000    9.000000      55.000000   \n",
       "25%      4.000000          250.000000     2.000000   56.250000     135.000000   \n",
       "50%      4.000000          400.000000     3.000000   99.000000     160.000000   \n",
       "75%      6.000000          700.000000     4.000000  160.000000     280.000000   \n",
       "max     14.000000         7316.800000    10.000000  547.000000    4520.000000   \n",
       "\n",
       "             Other  \n",
       "count   614.000000  \n",
       "mean   1683.950326  \n",
       "std     846.482844  \n",
       "min       0.000000  \n",
       "25%    1120.000000  \n",
       "50%    1743.000000  \n",
       "75%    2336.000000  \n",
       "max    4485.000000  "
      ]
     },
     "execution_count": 51,
     "metadata": {},
     "output_type": "execute_result"
    }
   ],
   "source": [
    "## Selecting the necessary variables\n",
    "u_data = urban_reg[['Occupants', 'House_area_in_sqft', 'Total_rooms', 'Lighting', 'Space_cooling', 'Other']]\n",
    "u_data.describe()"
   ]
  },
  {
   "cell_type": "code",
   "execution_count": 52,
   "id": "005eb7c6",
   "metadata": {},
   "outputs": [],
   "source": [
    "## FEATURE SCALING\n",
    "sc = StandardScaler()\n",
    "u_scaled = sc.fit_transform(u_data)\n",
    "u_s = pd.DataFrame(u_scaled)"
   ]
  },
  {
   "cell_type": "markdown",
   "id": "466cdd71",
   "metadata": {},
   "source": [
    "### K - Means Clustering"
   ]
  },
  {
   "cell_type": "code",
   "execution_count": 67,
   "id": "55f5f3e8",
   "metadata": {},
   "outputs": [
    {
     "data": {
      "text/html": [
       "<style>#sk-container-id-5 {\n",
       "  /* Definition of color scheme common for light and dark mode */\n",
       "  --sklearn-color-text: black;\n",
       "  --sklearn-color-line: gray;\n",
       "  /* Definition of color scheme for unfitted estimators */\n",
       "  --sklearn-color-unfitted-level-0: #fff5e6;\n",
       "  --sklearn-color-unfitted-level-1: #f6e4d2;\n",
       "  --sklearn-color-unfitted-level-2: #ffe0b3;\n",
       "  --sklearn-color-unfitted-level-3: chocolate;\n",
       "  /* Definition of color scheme for fitted estimators */\n",
       "  --sklearn-color-fitted-level-0: #f0f8ff;\n",
       "  --sklearn-color-fitted-level-1: #d4ebff;\n",
       "  --sklearn-color-fitted-level-2: #b3dbfd;\n",
       "  --sklearn-color-fitted-level-3: cornflowerblue;\n",
       "\n",
       "  /* Specific color for light theme */\n",
       "  --sklearn-color-text-on-default-background: var(--sg-text-color, var(--theme-code-foreground, var(--jp-content-font-color1, black)));\n",
       "  --sklearn-color-background: var(--sg-background-color, var(--theme-background, var(--jp-layout-color0, white)));\n",
       "  --sklearn-color-border-box: var(--sg-text-color, var(--theme-code-foreground, var(--jp-content-font-color1, black)));\n",
       "  --sklearn-color-icon: #696969;\n",
       "\n",
       "  @media (prefers-color-scheme: dark) {\n",
       "    /* Redefinition of color scheme for dark theme */\n",
       "    --sklearn-color-text-on-default-background: var(--sg-text-color, var(--theme-code-foreground, var(--jp-content-font-color1, white)));\n",
       "    --sklearn-color-background: var(--sg-background-color, var(--theme-background, var(--jp-layout-color0, #111)));\n",
       "    --sklearn-color-border-box: var(--sg-text-color, var(--theme-code-foreground, var(--jp-content-font-color1, white)));\n",
       "    --sklearn-color-icon: #878787;\n",
       "  }\n",
       "}\n",
       "\n",
       "#sk-container-id-5 {\n",
       "  color: var(--sklearn-color-text);\n",
       "}\n",
       "\n",
       "#sk-container-id-5 pre {\n",
       "  padding: 0;\n",
       "}\n",
       "\n",
       "#sk-container-id-5 input.sk-hidden--visually {\n",
       "  border: 0;\n",
       "  clip: rect(1px 1px 1px 1px);\n",
       "  clip: rect(1px, 1px, 1px, 1px);\n",
       "  height: 1px;\n",
       "  margin: -1px;\n",
       "  overflow: hidden;\n",
       "  padding: 0;\n",
       "  position: absolute;\n",
       "  width: 1px;\n",
       "}\n",
       "\n",
       "#sk-container-id-5 div.sk-dashed-wrapped {\n",
       "  border: 1px dashed var(--sklearn-color-line);\n",
       "  margin: 0 0.4em 0.5em 0.4em;\n",
       "  box-sizing: border-box;\n",
       "  padding-bottom: 0.4em;\n",
       "  background-color: var(--sklearn-color-background);\n",
       "}\n",
       "\n",
       "#sk-container-id-5 div.sk-container {\n",
       "  /* jupyter's `normalize.less` sets `[hidden] { display: none; }`\n",
       "     but bootstrap.min.css set `[hidden] { display: none !important; }`\n",
       "     so we also need the `!important` here to be able to override the\n",
       "     default hidden behavior on the sphinx rendered scikit-learn.org.\n",
       "     See: https://github.com/scikit-learn/scikit-learn/issues/21755 */\n",
       "  display: inline-block !important;\n",
       "  position: relative;\n",
       "}\n",
       "\n",
       "#sk-container-id-5 div.sk-text-repr-fallback {\n",
       "  display: none;\n",
       "}\n",
       "\n",
       "div.sk-parallel-item,\n",
       "div.sk-serial,\n",
       "div.sk-item {\n",
       "  /* draw centered vertical line to link estimators */\n",
       "  background-image: linear-gradient(var(--sklearn-color-text-on-default-background), var(--sklearn-color-text-on-default-background));\n",
       "  background-size: 2px 100%;\n",
       "  background-repeat: no-repeat;\n",
       "  background-position: center center;\n",
       "}\n",
       "\n",
       "/* Parallel-specific style estimator block */\n",
       "\n",
       "#sk-container-id-5 div.sk-parallel-item::after {\n",
       "  content: \"\";\n",
       "  width: 100%;\n",
       "  border-bottom: 2px solid var(--sklearn-color-text-on-default-background);\n",
       "  flex-grow: 1;\n",
       "}\n",
       "\n",
       "#sk-container-id-5 div.sk-parallel {\n",
       "  display: flex;\n",
       "  align-items: stretch;\n",
       "  justify-content: center;\n",
       "  background-color: var(--sklearn-color-background);\n",
       "  position: relative;\n",
       "}\n",
       "\n",
       "#sk-container-id-5 div.sk-parallel-item {\n",
       "  display: flex;\n",
       "  flex-direction: column;\n",
       "}\n",
       "\n",
       "#sk-container-id-5 div.sk-parallel-item:first-child::after {\n",
       "  align-self: flex-end;\n",
       "  width: 50%;\n",
       "}\n",
       "\n",
       "#sk-container-id-5 div.sk-parallel-item:last-child::after {\n",
       "  align-self: flex-start;\n",
       "  width: 50%;\n",
       "}\n",
       "\n",
       "#sk-container-id-5 div.sk-parallel-item:only-child::after {\n",
       "  width: 0;\n",
       "}\n",
       "\n",
       "/* Serial-specific style estimator block */\n",
       "\n",
       "#sk-container-id-5 div.sk-serial {\n",
       "  display: flex;\n",
       "  flex-direction: column;\n",
       "  align-items: center;\n",
       "  background-color: var(--sklearn-color-background);\n",
       "  padding-right: 1em;\n",
       "  padding-left: 1em;\n",
       "}\n",
       "\n",
       "\n",
       "/* Toggleable style: style used for estimator/Pipeline/ColumnTransformer box that is\n",
       "clickable and can be expanded/collapsed.\n",
       "- Pipeline and ColumnTransformer use this feature and define the default style\n",
       "- Estimators will overwrite some part of the style using the `sk-estimator` class\n",
       "*/\n",
       "\n",
       "/* Pipeline and ColumnTransformer style (default) */\n",
       "\n",
       "#sk-container-id-5 div.sk-toggleable {\n",
       "  /* Default theme specific background. It is overwritten whether we have a\n",
       "  specific estimator or a Pipeline/ColumnTransformer */\n",
       "  background-color: var(--sklearn-color-background);\n",
       "}\n",
       "\n",
       "/* Toggleable label */\n",
       "#sk-container-id-5 label.sk-toggleable__label {\n",
       "  cursor: pointer;\n",
       "  display: block;\n",
       "  width: 100%;\n",
       "  margin-bottom: 0;\n",
       "  padding: 0.5em;\n",
       "  box-sizing: border-box;\n",
       "  text-align: center;\n",
       "}\n",
       "\n",
       "#sk-container-id-5 label.sk-toggleable__label-arrow:before {\n",
       "  /* Arrow on the left of the label */\n",
       "  content: \"▸\";\n",
       "  float: left;\n",
       "  margin-right: 0.25em;\n",
       "  color: var(--sklearn-color-icon);\n",
       "}\n",
       "\n",
       "#sk-container-id-5 label.sk-toggleable__label-arrow:hover:before {\n",
       "  color: var(--sklearn-color-text);\n",
       "}\n",
       "\n",
       "/* Toggleable content - dropdown */\n",
       "\n",
       "#sk-container-id-5 div.sk-toggleable__content {\n",
       "  max-height: 0;\n",
       "  max-width: 0;\n",
       "  overflow: hidden;\n",
       "  text-align: left;\n",
       "  /* unfitted */\n",
       "  background-color: var(--sklearn-color-unfitted-level-0);\n",
       "}\n",
       "\n",
       "#sk-container-id-5 div.sk-toggleable__content.fitted {\n",
       "  /* fitted */\n",
       "  background-color: var(--sklearn-color-fitted-level-0);\n",
       "}\n",
       "\n",
       "#sk-container-id-5 div.sk-toggleable__content pre {\n",
       "  margin: 0.2em;\n",
       "  border-radius: 0.25em;\n",
       "  color: var(--sklearn-color-text);\n",
       "  /* unfitted */\n",
       "  background-color: var(--sklearn-color-unfitted-level-0);\n",
       "}\n",
       "\n",
       "#sk-container-id-5 div.sk-toggleable__content.fitted pre {\n",
       "  /* unfitted */\n",
       "  background-color: var(--sklearn-color-fitted-level-0);\n",
       "}\n",
       "\n",
       "#sk-container-id-5 input.sk-toggleable__control:checked~div.sk-toggleable__content {\n",
       "  /* Expand drop-down */\n",
       "  max-height: 200px;\n",
       "  max-width: 100%;\n",
       "  overflow: auto;\n",
       "}\n",
       "\n",
       "#sk-container-id-5 input.sk-toggleable__control:checked~label.sk-toggleable__label-arrow:before {\n",
       "  content: \"▾\";\n",
       "}\n",
       "\n",
       "/* Pipeline/ColumnTransformer-specific style */\n",
       "\n",
       "#sk-container-id-5 div.sk-label input.sk-toggleable__control:checked~label.sk-toggleable__label {\n",
       "  color: var(--sklearn-color-text);\n",
       "  background-color: var(--sklearn-color-unfitted-level-2);\n",
       "}\n",
       "\n",
       "#sk-container-id-5 div.sk-label.fitted input.sk-toggleable__control:checked~label.sk-toggleable__label {\n",
       "  background-color: var(--sklearn-color-fitted-level-2);\n",
       "}\n",
       "\n",
       "/* Estimator-specific style */\n",
       "\n",
       "/* Colorize estimator box */\n",
       "#sk-container-id-5 div.sk-estimator input.sk-toggleable__control:checked~label.sk-toggleable__label {\n",
       "  /* unfitted */\n",
       "  background-color: var(--sklearn-color-unfitted-level-2);\n",
       "}\n",
       "\n",
       "#sk-container-id-5 div.sk-estimator.fitted input.sk-toggleable__control:checked~label.sk-toggleable__label {\n",
       "  /* fitted */\n",
       "  background-color: var(--sklearn-color-fitted-level-2);\n",
       "}\n",
       "\n",
       "#sk-container-id-5 div.sk-label label.sk-toggleable__label,\n",
       "#sk-container-id-5 div.sk-label label {\n",
       "  /* The background is the default theme color */\n",
       "  color: var(--sklearn-color-text-on-default-background);\n",
       "}\n",
       "\n",
       "/* On hover, darken the color of the background */\n",
       "#sk-container-id-5 div.sk-label:hover label.sk-toggleable__label {\n",
       "  color: var(--sklearn-color-text);\n",
       "  background-color: var(--sklearn-color-unfitted-level-2);\n",
       "}\n",
       "\n",
       "/* Label box, darken color on hover, fitted */\n",
       "#sk-container-id-5 div.sk-label.fitted:hover label.sk-toggleable__label.fitted {\n",
       "  color: var(--sklearn-color-text);\n",
       "  background-color: var(--sklearn-color-fitted-level-2);\n",
       "}\n",
       "\n",
       "/* Estimator label */\n",
       "\n",
       "#sk-container-id-5 div.sk-label label {\n",
       "  font-family: monospace;\n",
       "  font-weight: bold;\n",
       "  display: inline-block;\n",
       "  line-height: 1.2em;\n",
       "}\n",
       "\n",
       "#sk-container-id-5 div.sk-label-container {\n",
       "  text-align: center;\n",
       "}\n",
       "\n",
       "/* Estimator-specific */\n",
       "#sk-container-id-5 div.sk-estimator {\n",
       "  font-family: monospace;\n",
       "  border: 1px dotted var(--sklearn-color-border-box);\n",
       "  border-radius: 0.25em;\n",
       "  box-sizing: border-box;\n",
       "  margin-bottom: 0.5em;\n",
       "  /* unfitted */\n",
       "  background-color: var(--sklearn-color-unfitted-level-0);\n",
       "}\n",
       "\n",
       "#sk-container-id-5 div.sk-estimator.fitted {\n",
       "  /* fitted */\n",
       "  background-color: var(--sklearn-color-fitted-level-0);\n",
       "}\n",
       "\n",
       "/* on hover */\n",
       "#sk-container-id-5 div.sk-estimator:hover {\n",
       "  /* unfitted */\n",
       "  background-color: var(--sklearn-color-unfitted-level-2);\n",
       "}\n",
       "\n",
       "#sk-container-id-5 div.sk-estimator.fitted:hover {\n",
       "  /* fitted */\n",
       "  background-color: var(--sklearn-color-fitted-level-2);\n",
       "}\n",
       "\n",
       "/* Specification for estimator info (e.g. \"i\" and \"?\") */\n",
       "\n",
       "/* Common style for \"i\" and \"?\" */\n",
       "\n",
       ".sk-estimator-doc-link,\n",
       "a:link.sk-estimator-doc-link,\n",
       "a:visited.sk-estimator-doc-link {\n",
       "  float: right;\n",
       "  font-size: smaller;\n",
       "  line-height: 1em;\n",
       "  font-family: monospace;\n",
       "  background-color: var(--sklearn-color-background);\n",
       "  border-radius: 1em;\n",
       "  height: 1em;\n",
       "  width: 1em;\n",
       "  text-decoration: none !important;\n",
       "  margin-left: 1ex;\n",
       "  /* unfitted */\n",
       "  border: var(--sklearn-color-unfitted-level-1) 1pt solid;\n",
       "  color: var(--sklearn-color-unfitted-level-1);\n",
       "}\n",
       "\n",
       ".sk-estimator-doc-link.fitted,\n",
       "a:link.sk-estimator-doc-link.fitted,\n",
       "a:visited.sk-estimator-doc-link.fitted {\n",
       "  /* fitted */\n",
       "  border: var(--sklearn-color-fitted-level-1) 1pt solid;\n",
       "  color: var(--sklearn-color-fitted-level-1);\n",
       "}\n",
       "\n",
       "/* On hover */\n",
       "div.sk-estimator:hover .sk-estimator-doc-link:hover,\n",
       ".sk-estimator-doc-link:hover,\n",
       "div.sk-label-container:hover .sk-estimator-doc-link:hover,\n",
       ".sk-estimator-doc-link:hover {\n",
       "  /* unfitted */\n",
       "  background-color: var(--sklearn-color-unfitted-level-3);\n",
       "  color: var(--sklearn-color-background);\n",
       "  text-decoration: none;\n",
       "}\n",
       "\n",
       "div.sk-estimator.fitted:hover .sk-estimator-doc-link.fitted:hover,\n",
       ".sk-estimator-doc-link.fitted:hover,\n",
       "div.sk-label-container:hover .sk-estimator-doc-link.fitted:hover,\n",
       ".sk-estimator-doc-link.fitted:hover {\n",
       "  /* fitted */\n",
       "  background-color: var(--sklearn-color-fitted-level-3);\n",
       "  color: var(--sklearn-color-background);\n",
       "  text-decoration: none;\n",
       "}\n",
       "\n",
       "/* Span, style for the box shown on hovering the info icon */\n",
       ".sk-estimator-doc-link span {\n",
       "  display: none;\n",
       "  z-index: 9999;\n",
       "  position: relative;\n",
       "  font-weight: normal;\n",
       "  right: .2ex;\n",
       "  padding: .5ex;\n",
       "  margin: .5ex;\n",
       "  width: min-content;\n",
       "  min-width: 20ex;\n",
       "  max-width: 50ex;\n",
       "  color: var(--sklearn-color-text);\n",
       "  box-shadow: 2pt 2pt 4pt #999;\n",
       "  /* unfitted */\n",
       "  background: var(--sklearn-color-unfitted-level-0);\n",
       "  border: .5pt solid var(--sklearn-color-unfitted-level-3);\n",
       "}\n",
       "\n",
       ".sk-estimator-doc-link.fitted span {\n",
       "  /* fitted */\n",
       "  background: var(--sklearn-color-fitted-level-0);\n",
       "  border: var(--sklearn-color-fitted-level-3);\n",
       "}\n",
       "\n",
       ".sk-estimator-doc-link:hover span {\n",
       "  display: block;\n",
       "}\n",
       "\n",
       "/* \"?\"-specific style due to the `<a>` HTML tag */\n",
       "\n",
       "#sk-container-id-5 a.estimator_doc_link {\n",
       "  float: right;\n",
       "  font-size: 1rem;\n",
       "  line-height: 1em;\n",
       "  font-family: monospace;\n",
       "  background-color: var(--sklearn-color-background);\n",
       "  border-radius: 1rem;\n",
       "  height: 1rem;\n",
       "  width: 1rem;\n",
       "  text-decoration: none;\n",
       "  /* unfitted */\n",
       "  color: var(--sklearn-color-unfitted-level-1);\n",
       "  border: var(--sklearn-color-unfitted-level-1) 1pt solid;\n",
       "}\n",
       "\n",
       "#sk-container-id-5 a.estimator_doc_link.fitted {\n",
       "  /* fitted */\n",
       "  border: var(--sklearn-color-fitted-level-1) 1pt solid;\n",
       "  color: var(--sklearn-color-fitted-level-1);\n",
       "}\n",
       "\n",
       "/* On hover */\n",
       "#sk-container-id-5 a.estimator_doc_link:hover {\n",
       "  /* unfitted */\n",
       "  background-color: var(--sklearn-color-unfitted-level-3);\n",
       "  color: var(--sklearn-color-background);\n",
       "  text-decoration: none;\n",
       "}\n",
       "\n",
       "#sk-container-id-5 a.estimator_doc_link.fitted:hover {\n",
       "  /* fitted */\n",
       "  background-color: var(--sklearn-color-fitted-level-3);\n",
       "}\n",
       "</style><div id=\"sk-container-id-5\" class=\"sk-top-container\"><div class=\"sk-text-repr-fallback\"><pre>KMeans(n_clusters=4, random_state=42)</pre><b>In a Jupyter environment, please rerun this cell to show the HTML representation or trust the notebook. <br />On GitHub, the HTML representation is unable to render, please try loading this page with nbviewer.org.</b></div><div class=\"sk-container\" hidden><div class=\"sk-item\"><div class=\"sk-estimator fitted sk-toggleable\"><input class=\"sk-toggleable__control sk-hidden--visually\" id=\"sk-estimator-id-5\" type=\"checkbox\" checked><label for=\"sk-estimator-id-5\" class=\"sk-toggleable__label fitted sk-toggleable__label-arrow fitted\">&nbsp;&nbsp;KMeans<a class=\"sk-estimator-doc-link fitted\" rel=\"noreferrer\" target=\"_blank\" href=\"https://scikit-learn.org/1.4/modules/generated/sklearn.cluster.KMeans.html\">?<span>Documentation for KMeans</span></a><span class=\"sk-estimator-doc-link fitted\">i<span>Fitted</span></span></label><div class=\"sk-toggleable__content fitted\"><pre>KMeans(n_clusters=4, random_state=42)</pre></div> </div></div></div></div>"
      ],
      "text/plain": [
       "KMeans(n_clusters=4, random_state=42)"
      ]
     },
     "execution_count": 67,
     "metadata": {},
     "output_type": "execute_result"
    }
   ],
   "source": [
    "# Developing the model and fitting the model to the data\n",
    "\n",
    "km_model = KMeans(n_clusters = 4, random_state = 42)\n",
    "km_model.fit(u_scaled)"
   ]
  },
  {
   "cell_type": "code",
   "execution_count": 68,
   "id": "090f46b9",
   "metadata": {},
   "outputs": [
    {
     "name": "stdout",
     "output_type": "stream",
     "text": [
      "Counter({1: 364, 3: 151, 0: 80, 2: 19})\n",
      "0.29727326576617075\n"
     ]
    }
   ],
   "source": [
    "## No.of points in each cluster \n",
    "print(Counter(km_model.labels_))\n",
    "print(silhouette_score(u_scaled, km_model.labels_)) "
   ]
  },
  {
   "cell_type": "code",
   "execution_count": 55,
   "id": "8f71ef0b",
   "metadata": {},
   "outputs": [],
   "source": [
    "## Adding the cluster number to ORIGINAL data\n",
    "\n",
    "u1 = urban_reg.copy()\n",
    "u1[\"Cluster\"] = km_model.labels_ + 1       ## '+ 1' === is done to start the cluster numbering from 1 instead of 0"
   ]
  },
  {
   "cell_type": "code",
   "execution_count": 56,
   "id": "4d021650",
   "metadata": {
    "scrolled": true
   },
   "outputs": [
    {
     "data": {
      "text/html": [
       "<div>\n",
       "<style scoped>\n",
       "    .dataframe tbody tr th:only-of-type {\n",
       "        vertical-align: middle;\n",
       "    }\n",
       "\n",
       "    .dataframe tbody tr th {\n",
       "        vertical-align: top;\n",
       "    }\n",
       "\n",
       "    .dataframe thead th {\n",
       "        text-align: right;\n",
       "    }\n",
       "</style>\n",
       "<table border=\"1\" class=\"dataframe\">\n",
       "  <thead>\n",
       "    <tr style=\"text-align: right;\">\n",
       "      <th></th>\n",
       "      <th>Occupants</th>\n",
       "      <th>House_area_in_sqft</th>\n",
       "      <th>Total_rooms</th>\n",
       "      <th>Lighting</th>\n",
       "      <th>Space_cooling</th>\n",
       "      <th>Other</th>\n",
       "      <th>Cluster</th>\n",
       "      <th>m_billed_units</th>\n",
       "    </tr>\n",
       "    <tr>\n",
       "      <th>Cluster</th>\n",
       "      <th></th>\n",
       "      <th></th>\n",
       "      <th></th>\n",
       "      <th></th>\n",
       "      <th></th>\n",
       "      <th></th>\n",
       "      <th></th>\n",
       "      <th></th>\n",
       "    </tr>\n",
       "  </thead>\n",
       "  <tbody>\n",
       "    <tr>\n",
       "      <th>1</th>\n",
       "      <td>4.8</td>\n",
       "      <td>610.1</td>\n",
       "      <td>2.5</td>\n",
       "      <td>141.0</td>\n",
       "      <td>2376.6</td>\n",
       "      <td>2520.9</td>\n",
       "      <td>80</td>\n",
       "      <td>151.7</td>\n",
       "    </tr>\n",
       "    <tr>\n",
       "      <th>2</th>\n",
       "      <td>4.2</td>\n",
       "      <td>450.6</td>\n",
       "      <td>2.5</td>\n",
       "      <td>93.4</td>\n",
       "      <td>161.4</td>\n",
       "      <td>1452.5</td>\n",
       "      <td>364</td>\n",
       "      <td>107.4</td>\n",
       "    </tr>\n",
       "    <tr>\n",
       "      <th>3</th>\n",
       "      <td>4.7</td>\n",
       "      <td>5412.8</td>\n",
       "      <td>5.4</td>\n",
       "      <td>71.1</td>\n",
       "      <td>387.4</td>\n",
       "      <td>1297.1</td>\n",
       "      <td>19</td>\n",
       "      <td>88.9</td>\n",
       "    </tr>\n",
       "    <tr>\n",
       "      <th>4</th>\n",
       "      <td>6.4</td>\n",
       "      <td>787.1</td>\n",
       "      <td>4.8</td>\n",
       "      <td>155.0</td>\n",
       "      <td>258.5</td>\n",
       "      <td>1847.1</td>\n",
       "      <td>151</td>\n",
       "      <td>129.4</td>\n",
       "    </tr>\n",
       "  </tbody>\n",
       "</table>\n",
       "</div>"
      ],
      "text/plain": [
       "         Occupants  House_area_in_sqft  Total_rooms  Lighting  Space_cooling  \\\n",
       "Cluster                                                                        \n",
       "1              4.8               610.1          2.5     141.0         2376.6   \n",
       "2              4.2               450.6          2.5      93.4          161.4   \n",
       "3              4.7              5412.8          5.4      71.1          387.4   \n",
       "4              6.4               787.1          4.8     155.0          258.5   \n",
       "\n",
       "          Other  Cluster  m_billed_units  \n",
       "Cluster                                   \n",
       "1        2520.9       80           151.7  \n",
       "2        1452.5      364           107.4  \n",
       "3        1297.1       19            88.9  \n",
       "4        1847.1      151           129.4  "
      ]
     },
     "execution_count": 56,
     "metadata": {},
     "output_type": "execute_result"
    }
   ],
   "source": [
    "## SUMMARY\n",
    "km_u1_summary = u1.groupby([\"Cluster\"]).agg({\"Occupants\" : \"mean\", \"House_area_in_sqft\" : \"mean\", \"Total_rooms\" : \"mean\", \n",
    "                                             \"Lighting\" : \"mean\", \"Space_cooling\" : \"mean\", \"Other\" : \"mean\", \n",
    "                                             \"Cluster\" : \"count\", \"m_billed_units\" : \"mean\"})\n",
    "km_u1_summary = round(km_u1_summary, 1)\n",
    "km_u1_summary"
   ]
  }
 ],
 "metadata": {
  "kernelspec": {
   "display_name": "Python 3 (ipykernel)",
   "language": "python",
   "name": "python3"
  },
  "language_info": {
   "codemirror_mode": {
    "name": "ipython",
    "version": 3
   },
   "file_extension": ".py",
   "mimetype": "text/x-python",
   "name": "python",
   "nbconvert_exporter": "python",
   "pygments_lexer": "ipython3",
   "version": "3.10.12"
  }
 },
 "nbformat": 4,
 "nbformat_minor": 5
}
